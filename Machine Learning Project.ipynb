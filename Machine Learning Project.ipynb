{
 "cells": [
  {
   "cell_type": "code",
   "execution_count": 1,
   "metadata": {},
   "outputs": [],
   "source": [
    "import pandas as pd\n",
    "import seaborn as sns\n",
    "import numpy as np\n",
    "import matplotlib.pyplot as plt"
   ]
  },
  {
   "cell_type": "code",
   "execution_count": 2,
   "metadata": {},
   "outputs": [],
   "source": [
    "from scipy.stats import normaltest"
   ]
  },
  {
   "cell_type": "code",
   "execution_count": 3,
   "metadata": {},
   "outputs": [],
   "source": [
    "df=pd.read_csv('D:\\Project\\Machine_learning_project1\\data2.csv')"
   ]
  },
  {
   "cell_type": "code",
   "execution_count": 4,
   "metadata": {
    "scrolled": true
   },
   "outputs": [
    {
     "data": {
      "text/html": [
       "<div>\n",
       "<style scoped>\n",
       "    .dataframe tbody tr th:only-of-type {\n",
       "        vertical-align: middle;\n",
       "    }\n",
       "\n",
       "    .dataframe tbody tr th {\n",
       "        vertical-align: top;\n",
       "    }\n",
       "\n",
       "    .dataframe thead th {\n",
       "        text-align: right;\n",
       "    }\n",
       "</style>\n",
       "<table border=\"1\" class=\"dataframe\">\n",
       "  <thead>\n",
       "    <tr style=\"text-align: right;\">\n",
       "      <th></th>\n",
       "      <th>id</th>\n",
       "      <th>program_id</th>\n",
       "      <th>program_type</th>\n",
       "      <th>program_duration</th>\n",
       "      <th>test_id</th>\n",
       "      <th>test_type</th>\n",
       "      <th>difficulty_level</th>\n",
       "      <th>trainee_id</th>\n",
       "      <th>gender</th>\n",
       "      <th>education</th>\n",
       "      <th>city_tier</th>\n",
       "      <th>age</th>\n",
       "      <th>total_programs_enrolled</th>\n",
       "      <th>is_handicapped</th>\n",
       "      <th>trainee_engagement_rating</th>\n",
       "      <th>is_pass</th>\n",
       "    </tr>\n",
       "  </thead>\n",
       "  <tbody>\n",
       "    <tr>\n",
       "      <td>0</td>\n",
       "      <td>9389_150</td>\n",
       "      <td>Y_1</td>\n",
       "      <td>Y</td>\n",
       "      <td>136</td>\n",
       "      <td>150</td>\n",
       "      <td>offline</td>\n",
       "      <td>intermediate</td>\n",
       "      <td>9389</td>\n",
       "      <td>M</td>\n",
       "      <td>Matriculation</td>\n",
       "      <td>3</td>\n",
       "      <td>24.0</td>\n",
       "      <td>5</td>\n",
       "      <td>N</td>\n",
       "      <td>1.0</td>\n",
       "      <td>0</td>\n",
       "    </tr>\n",
       "    <tr>\n",
       "      <td>1</td>\n",
       "      <td>16523_44</td>\n",
       "      <td>T_1</td>\n",
       "      <td>T</td>\n",
       "      <td>131</td>\n",
       "      <td>44</td>\n",
       "      <td>offline</td>\n",
       "      <td>easy</td>\n",
       "      <td>16523</td>\n",
       "      <td>F</td>\n",
       "      <td>High School Diploma</td>\n",
       "      <td>4</td>\n",
       "      <td>26.0</td>\n",
       "      <td>2</td>\n",
       "      <td>N</td>\n",
       "      <td>3.0</td>\n",
       "      <td>1</td>\n",
       "    </tr>\n",
       "    <tr>\n",
       "      <td>2</td>\n",
       "      <td>13987_178</td>\n",
       "      <td>Z_2</td>\n",
       "      <td>Z</td>\n",
       "      <td>120</td>\n",
       "      <td>178</td>\n",
       "      <td>online</td>\n",
       "      <td>easy</td>\n",
       "      <td>13987</td>\n",
       "      <td>M</td>\n",
       "      <td>Matriculation</td>\n",
       "      <td>1</td>\n",
       "      <td>40.0</td>\n",
       "      <td>1</td>\n",
       "      <td>N</td>\n",
       "      <td>2.0</td>\n",
       "      <td>1</td>\n",
       "    </tr>\n",
       "    <tr>\n",
       "      <td>3</td>\n",
       "      <td>13158_32</td>\n",
       "      <td>T_2</td>\n",
       "      <td>T</td>\n",
       "      <td>117</td>\n",
       "      <td>32</td>\n",
       "      <td>offline</td>\n",
       "      <td>easy</td>\n",
       "      <td>13158</td>\n",
       "      <td>F</td>\n",
       "      <td>Matriculation</td>\n",
       "      <td>3</td>\n",
       "      <td>NaN</td>\n",
       "      <td>4</td>\n",
       "      <td>N</td>\n",
       "      <td>1.0</td>\n",
       "      <td>1</td>\n",
       "    </tr>\n",
       "    <tr>\n",
       "      <td>4</td>\n",
       "      <td>10591_84</td>\n",
       "      <td>V_3</td>\n",
       "      <td>V</td>\n",
       "      <td>131</td>\n",
       "      <td>84</td>\n",
       "      <td>offline</td>\n",
       "      <td>intermediate</td>\n",
       "      <td>10591</td>\n",
       "      <td>F</td>\n",
       "      <td>High School Diploma</td>\n",
       "      <td>1</td>\n",
       "      <td>42.0</td>\n",
       "      <td>2</td>\n",
       "      <td>N</td>\n",
       "      <td>4.0</td>\n",
       "      <td>1</td>\n",
       "    </tr>\n",
       "  </tbody>\n",
       "</table>\n",
       "</div>"
      ],
      "text/plain": [
       "          id program_id program_type  program_duration  test_id test_type  \\\n",
       "0   9389_150        Y_1            Y               136      150   offline   \n",
       "1   16523_44        T_1            T               131       44   offline   \n",
       "2  13987_178        Z_2            Z               120      178    online   \n",
       "3   13158_32        T_2            T               117       32   offline   \n",
       "4   10591_84        V_3            V               131       84   offline   \n",
       "\n",
       "  difficulty_level  trainee_id gender            education  city_tier   age  \\\n",
       "0     intermediate        9389      M        Matriculation          3  24.0   \n",
       "1             easy       16523      F  High School Diploma          4  26.0   \n",
       "2             easy       13987      M        Matriculation          1  40.0   \n",
       "3             easy       13158      F        Matriculation          3   NaN   \n",
       "4     intermediate       10591      F  High School Diploma          1  42.0   \n",
       "\n",
       "   total_programs_enrolled is_handicapped  trainee_engagement_rating  is_pass  \n",
       "0                        5              N                        1.0        0  \n",
       "1                        2              N                        3.0        1  \n",
       "2                        1              N                        2.0        1  \n",
       "3                        4              N                        1.0        1  \n",
       "4                        2              N                        4.0        1  "
      ]
     },
     "execution_count": 4,
     "metadata": {},
     "output_type": "execute_result"
    }
   ],
   "source": [
    "df.head()"
   ]
  },
  {
   "cell_type": "markdown",
   "metadata": {},
   "source": [
    "#Checking the data and cleaning the data"
   ]
  },
  {
   "cell_type": "code",
   "execution_count": 5,
   "metadata": {},
   "outputs": [],
   "source": [
    "df2=df.drop(labels=[\"id\",\"test_id\",\"program_id\",\"trainee_id\"],axis=1)"
   ]
  },
  {
   "cell_type": "code",
   "execution_count": 6,
   "metadata": {},
   "outputs": [
    {
     "name": "stdout",
     "output_type": "stream",
     "text": [
      "Index(['id', 'program_id', 'program_type', 'program_duration', 'test_id',\n",
      "       'test_type', 'difficulty_level', 'trainee_id', 'gender', 'education',\n",
      "       'city_tier', 'age', 'total_programs_enrolled', 'is_handicapped',\n",
      "       'trainee_engagement_rating', 'is_pass'],\n",
      "      dtype='object')\n"
     ]
    }
   ],
   "source": [
    "print(df.columns)"
   ]
  },
  {
   "cell_type": "code",
   "execution_count": 7,
   "metadata": {},
   "outputs": [],
   "source": [
    "Column_name=['id', 'program_id', 'program_type', 'program_duration', 'test_id',\n",
    "       'test_type', 'difficulty_level', 'trainee_id', 'gender', 'education',\n",
    "       'city_tier', 'age', 'total_programs_enrolled', 'is_handicapped',\n",
    "       'trainee_engagement_rating','is_pass']"
   ]
  },
  {
   "cell_type": "code",
   "execution_count": 8,
   "metadata": {},
   "outputs": [
    {
     "name": "stdout",
     "output_type": "stream",
     "text": [
      "<class 'pandas.core.frame.DataFrame'>\n",
      "RangeIndex: 73147 entries, 0 to 73146\n",
      "Data columns (total 16 columns):\n",
      "id                           73147 non-null object\n",
      "program_id                   73147 non-null object\n",
      "program_type                 73147 non-null object\n",
      "program_duration             73147 non-null int64\n",
      "test_id                      73147 non-null int64\n",
      "test_type                    73147 non-null object\n",
      "difficulty_level             73147 non-null object\n",
      "trainee_id                   73147 non-null int64\n",
      "gender                       73147 non-null object\n",
      "education                    73147 non-null object\n",
      "city_tier                    73147 non-null int64\n",
      "age                          45418 non-null float64\n",
      "total_programs_enrolled      73147 non-null int64\n",
      "is_handicapped               73147 non-null object\n",
      "trainee_engagement_rating    73070 non-null float64\n",
      "is_pass                      73147 non-null int64\n",
      "dtypes: float64(2), int64(6), object(8)\n",
      "memory usage: 8.9+ MB\n"
     ]
    }
   ],
   "source": [
    "df.info()"
   ]
  },
  {
   "cell_type": "code",
   "execution_count": 9,
   "metadata": {},
   "outputs": [
    {
     "data": {
      "text/plain": [
       "count    45418.000000\n",
       "mean        36.494033\n",
       "std          9.041119\n",
       "min         17.000000\n",
       "25%         28.000000\n",
       "50%         39.000000\n",
       "75%         45.000000\n",
       "max         63.000000\n",
       "Name: age, dtype: float64"
      ]
     },
     "execution_count": 9,
     "metadata": {},
     "output_type": "execute_result"
    }
   ],
   "source": [
    "df[\"age\"].describe()"
   ]
  },
  {
   "cell_type": "code",
   "execution_count": 10,
   "metadata": {},
   "outputs": [
    {
     "name": "stdout",
     "output_type": "stream",
     "text": [
      "Gender: {'M', 'F'}\n",
      "Program Type: {'Z', 'U', 'X', 'T', 'Y', 'V', 'S'}\n",
      "Program ID: {'V_3', 'Z_1', 'U_2', 'V_1', 'X_3', 'U_1', 'Y_2', 'Y_4', 'X_2', 'S_1', 'T_4', 'X_1', 'Z_2', 'V_2', 'T_1', 'Y_1', 'T_3', 'Z_3', 'S_2', 'Y_3', 'V_4', 'T_2'}\n",
      "Test Type: {'offline', 'online'}\n"
     ]
    }
   ],
   "source": [
    "print(\"Gender:\",set(df[\"gender\"]))\n",
    "print(\"Program Type:\",set(df[\"program_type\"]))\n",
    "print(\"Program ID:\",set(df[\"program_id\"]))\n",
    "print(\"Test Type:\",set(df[\"test_type\"]))\n"
   ]
  },
  {
   "cell_type": "code",
   "execution_count": 11,
   "metadata": {},
   "outputs": [
    {
     "name": "stdout",
     "output_type": "stream",
     "text": [
      "Education: {'Bachelors', 'Masters', 'Matriculation', 'No Qualification', 'High School Diploma'}\n",
      "City Tier: {1, 2, 3, 4}\n",
      "Total Programs enrolled: {1, 2, 3, 4, 5, 6, 7, 8, 9, 10, 11, 12, 14}\n",
      "Handicapped: {'N', 'Y'}\n"
     ]
    }
   ],
   "source": [
    "print(\"Education:\",set(df[\"education\"]))\n",
    "print(\"City Tier:\",set(df[\"city_tier\"]))\n",
    "print(\"Total Programs enrolled:\",set(df[\"total_programs_enrolled\"]))\n",
    "print(\"Handicapped:\",set(df[\"is_handicapped\"]))\n"
   ]
  },
  {
   "cell_type": "code",
   "execution_count": 12,
   "metadata": {},
   "outputs": [
    {
     "name": "stdout",
     "output_type": "stream",
     "text": [
      "Trainee engagement rating: {nan, 1.0, 2.0, 3.0, 4.0, 5.0, nan, nan, nan, nan, nan, nan, nan, nan, nan, nan, nan, nan, nan, nan, nan, nan, nan, nan, nan, nan, nan, nan, nan, nan, nan, nan, nan, nan, nan, nan, nan, nan, nan, nan, nan, nan, nan, nan, nan, nan, nan, nan, nan, nan, nan, nan, nan, nan, nan, nan, nan, nan, nan, nan, nan, nan, nan, nan, nan, nan, nan, nan, nan, nan, nan, nan, nan, nan, nan, nan, nan, nan, nan, nan, nan, nan}\n",
      "Pass or fail: {0, 1}\n"
     ]
    }
   ],
   "source": [
    "print(\"Trainee engagement rating:\",set(df[\"trainee_engagement_rating\"]))\n",
    "print(\"Pass or fail:\",set(df[\"is_pass\"]))"
   ]
  },
  {
   "cell_type": "code",
   "execution_count": 13,
   "metadata": {},
   "outputs": [],
   "source": [
    "#replacing the NA value in the variable\n",
    "df[\"trainee_engagement_rating\"]=df[\"trainee_engagement_rating\"].fillna(0)"
   ]
  },
  {
   "cell_type": "code",
   "execution_count": 14,
   "metadata": {},
   "outputs": [],
   "source": [
    "#checking the typ of distribution of \"age\" variable"
   ]
  },
  {
   "cell_type": "code",
   "execution_count": 15,
   "metadata": {},
   "outputs": [
    {
     "data": {
      "text/plain": [
       "<matplotlib.axes._subplots.AxesSubplot at 0x1e39ae06ac8>"
      ]
     },
     "execution_count": 15,
     "metadata": {},
     "output_type": "execute_result"
    },
    {
     "data": {
      "image/png": "[encoded data removed]",
      "text/plain": [
       "<Figure size 432x288 with 1 Axes>"
      ]
     },
     "metadata": {
      "needs_background": "light"
     },
     "output_type": "display_data"
    }
   ],
   "source": [
    "df[\"age\"].plot(kind=\"hist\")"
   ]
  },
  {
   "cell_type": "code",
   "execution_count": 16,
   "metadata": {},
   "outputs": [
    {
     "data": {
      "text/plain": [
       "NormaltestResult(statistic=328366.48083609145, pvalue=0.0)"
      ]
     },
     "execution_count": 16,
     "metadata": {},
     "output_type": "execute_result"
    }
   ],
   "source": [
    "normaltest(df[\"age\"].dropna())"
   ]
  },
  {
   "cell_type": "code",
   "execution_count": 17,
   "metadata": {},
   "outputs": [
    {
     "data": {
      "text/html": [
       "<div>\n",
       "<style scoped>\n",
       "    .dataframe tbody tr th:only-of-type {\n",
       "        vertical-align: middle;\n",
       "    }\n",
       "\n",
       "    .dataframe tbody tr th {\n",
       "        vertical-align: top;\n",
       "    }\n",
       "\n",
       "    .dataframe thead th {\n",
       "        text-align: right;\n",
       "    }\n",
       "</style>\n",
       "<table border=\"1\" class=\"dataframe\">\n",
       "  <thead>\n",
       "    <tr style=\"text-align: right;\">\n",
       "      <th>is_pass</th>\n",
       "      <th>0</th>\n",
       "      <th>1</th>\n",
       "      <th>All</th>\n",
       "    </tr>\n",
       "    <tr>\n",
       "      <th>test_type</th>\n",
       "      <th></th>\n",
       "      <th></th>\n",
       "      <th></th>\n",
       "    </tr>\n",
       "  </thead>\n",
       "  <tbody>\n",
       "    <tr>\n",
       "      <td>offline</td>\n",
       "      <td>21.555224</td>\n",
       "      <td>37.972849</td>\n",
       "      <td>59.528074</td>\n",
       "    </tr>\n",
       "    <tr>\n",
       "      <td>online</td>\n",
       "      <td>8.903988</td>\n",
       "      <td>31.567939</td>\n",
       "      <td>40.471926</td>\n",
       "    </tr>\n",
       "    <tr>\n",
       "      <td>All</td>\n",
       "      <td>30.459212</td>\n",
       "      <td>69.540788</td>\n",
       "      <td>100.000000</td>\n",
       "    </tr>\n",
       "  </tbody>\n",
       "</table>\n",
       "</div>"
      ],
      "text/plain": [
       "is_pass            0          1         All\n",
       "test_type                                  \n",
       "offline    21.555224  37.972849   59.528074\n",
       "online      8.903988  31.567939   40.471926\n",
       "All        30.459212  69.540788  100.000000"
      ]
     },
     "execution_count": 17,
     "metadata": {},
     "output_type": "execute_result"
    }
   ],
   "source": [
    "summary_percentage=pd.crosstab(df[\"test_type\"],df[\"is_pass\"],margins=True,normalize=\"all\")*100\n",
    "summary_percentage"
   ]
  },
  {
   "cell_type": "code",
   "execution_count": 18,
   "metadata": {},
   "outputs": [
    {
     "data": {
      "text/html": [
       "<div>\n",
       "<style scoped>\n",
       "    .dataframe tbody tr th:only-of-type {\n",
       "        vertical-align: middle;\n",
       "    }\n",
       "\n",
       "    .dataframe tbody tr th {\n",
       "        vertical-align: top;\n",
       "    }\n",
       "\n",
       "    .dataframe thead th {\n",
       "        text-align: right;\n",
       "    }\n",
       "</style>\n",
       "<table border=\"1\" class=\"dataframe\">\n",
       "  <thead>\n",
       "    <tr style=\"text-align: right;\">\n",
       "      <th>is_pass</th>\n",
       "      <th>0</th>\n",
       "      <th>1</th>\n",
       "      <th>All</th>\n",
       "    </tr>\n",
       "    <tr>\n",
       "      <th>difficulty_level</th>\n",
       "      <th></th>\n",
       "      <th></th>\n",
       "      <th></th>\n",
       "    </tr>\n",
       "  </thead>\n",
       "  <tbody>\n",
       "    <tr>\n",
       "      <td>easy</td>\n",
       "      <td>14.407973</td>\n",
       "      <td>40.414508</td>\n",
       "      <td>54.822481</td>\n",
       "    </tr>\n",
       "    <tr>\n",
       "      <td>hard</td>\n",
       "      <td>4.679618</td>\n",
       "      <td>9.397515</td>\n",
       "      <td>14.077132</td>\n",
       "    </tr>\n",
       "    <tr>\n",
       "      <td>intermediate</td>\n",
       "      <td>9.751596</td>\n",
       "      <td>18.503835</td>\n",
       "      <td>28.255431</td>\n",
       "    </tr>\n",
       "    <tr>\n",
       "      <td>vary hard</td>\n",
       "      <td>1.620025</td>\n",
       "      <td>1.224931</td>\n",
       "      <td>2.844956</td>\n",
       "    </tr>\n",
       "    <tr>\n",
       "      <td>All</td>\n",
       "      <td>30.459212</td>\n",
       "      <td>69.540788</td>\n",
       "      <td>100.000000</td>\n",
       "    </tr>\n",
       "  </tbody>\n",
       "</table>\n",
       "</div>"
      ],
      "text/plain": [
       "is_pass                   0          1         All\n",
       "difficulty_level                                  \n",
       "easy              14.407973  40.414508   54.822481\n",
       "hard               4.679618   9.397515   14.077132\n",
       "intermediate       9.751596  18.503835   28.255431\n",
       "vary hard          1.620025   1.224931    2.844956\n",
       "All               30.459212  69.540788  100.000000"
      ]
     },
     "execution_count": 18,
     "metadata": {},
     "output_type": "execute_result"
    }
   ],
   "source": [
    "difficulty_level_percentage=pd.crosstab(df[\"difficulty_level\"],df[\"is_pass\"],margins=True,normalize=\"all\")*100\n",
    "difficulty_level_percentage"
   ]
  },
  {
   "cell_type": "code",
   "execution_count": 19,
   "metadata": {},
   "outputs": [
    {
     "data": {
      "image/png": "[encoded data removed]",
      "text/plain": [
       "<Figure size 432x288 with 1 Axes>"
      ]
     },
     "metadata": {
      "needs_background": "light"
     },
     "output_type": "display_data"
    }
   ],
   "source": [
    "sns.boxplot(x=df[\"is_pass\"],y=df[\"age\"].dropna())\n",
    "plt.show()"
   ]
  },
  {
   "cell_type": "code",
   "execution_count": 20,
   "metadata": {},
   "outputs": [
    {
     "data": {
      "text/html": [
       "<div>\n",
       "<style scoped>\n",
       "    .dataframe tbody tr th:only-of-type {\n",
       "        vertical-align: middle;\n",
       "    }\n",
       "\n",
       "    .dataframe tbody tr th {\n",
       "        vertical-align: top;\n",
       "    }\n",
       "\n",
       "    .dataframe thead th {\n",
       "        text-align: right;\n",
       "    }\n",
       "</style>\n",
       "<table border=\"1\" class=\"dataframe\">\n",
       "  <thead>\n",
       "    <tr style=\"text-align: right;\">\n",
       "      <th>is_pass</th>\n",
       "      <th>0</th>\n",
       "      <th>1</th>\n",
       "    </tr>\n",
       "    <tr>\n",
       "      <th>gender</th>\n",
       "      <th></th>\n",
       "      <th></th>\n",
       "    </tr>\n",
       "  </thead>\n",
       "  <tbody>\n",
       "    <tr>\n",
       "      <td>F</td>\n",
       "      <td>0.314626</td>\n",
       "      <td>0.685374</td>\n",
       "    </tr>\n",
       "    <tr>\n",
       "      <td>M</td>\n",
       "      <td>0.295828</td>\n",
       "      <td>0.704172</td>\n",
       "    </tr>\n",
       "  </tbody>\n",
       "</table>\n",
       "</div>"
      ],
      "text/plain": [
       "is_pass         0         1\n",
       "gender                     \n",
       "F        0.314626  0.685374\n",
       "M        0.295828  0.704172"
      ]
     },
     "execution_count": 20,
     "metadata": {},
     "output_type": "execute_result"
    }
   ],
   "source": [
    "gender_percentage=pd.crosstab(df[\"gender\"],df[\"is_pass\"]).apply(lambda r: r/r.sum(), axis=1)\n",
    "gender_percentage"
   ]
  },
  {
   "cell_type": "code",
   "execution_count": 21,
   "metadata": {},
   "outputs": [
    {
     "data": {
      "text/html": [
       "<div>\n",
       "<style scoped>\n",
       "    .dataframe tbody tr th:only-of-type {\n",
       "        vertical-align: middle;\n",
       "    }\n",
       "\n",
       "    .dataframe tbody tr th {\n",
       "        vertical-align: top;\n",
       "    }\n",
       "\n",
       "    .dataframe thead th {\n",
       "        text-align: right;\n",
       "    }\n",
       "</style>\n",
       "<table border=\"1\" class=\"dataframe\">\n",
       "  <thead>\n",
       "    <tr style=\"text-align: right;\">\n",
       "      <th>is_pass</th>\n",
       "      <th>0</th>\n",
       "      <th>1</th>\n",
       "      <th>All</th>\n",
       "    </tr>\n",
       "    <tr>\n",
       "      <th>gender</th>\n",
       "      <th></th>\n",
       "      <th></th>\n",
       "      <th></th>\n",
       "    </tr>\n",
       "  </thead>\n",
       "  <tbody>\n",
       "    <tr>\n",
       "      <td>F</td>\n",
       "      <td>14.669091</td>\n",
       "      <td>31.954831</td>\n",
       "      <td>46.623922</td>\n",
       "    </tr>\n",
       "    <tr>\n",
       "      <td>M</td>\n",
       "      <td>15.790121</td>\n",
       "      <td>37.585957</td>\n",
       "      <td>53.376078</td>\n",
       "    </tr>\n",
       "    <tr>\n",
       "      <td>All</td>\n",
       "      <td>30.459212</td>\n",
       "      <td>69.540788</td>\n",
       "      <td>100.000000</td>\n",
       "    </tr>\n",
       "  </tbody>\n",
       "</table>\n",
       "</div>"
      ],
      "text/plain": [
       "is_pass          0          1         All\n",
       "gender                                   \n",
       "F        14.669091  31.954831   46.623922\n",
       "M        15.790121  37.585957   53.376078\n",
       "All      30.459212  69.540788  100.000000"
      ]
     },
     "execution_count": 21,
     "metadata": {},
     "output_type": "execute_result"
    }
   ],
   "source": [
    "gender_percentage=pd.crosstab(df[\"gender\"],df[\"is_pass\"],margins=True,normalize=True)*100\n",
    "gender_percentage"
   ]
  },
  {
   "cell_type": "code",
   "execution_count": 22,
   "metadata": {
    "scrolled": true
   },
   "outputs": [
    {
     "data": {
      "text/html": [
       "<div>\n",
       "<style scoped>\n",
       "    .dataframe tbody tr th:only-of-type {\n",
       "        vertical-align: middle;\n",
       "    }\n",
       "\n",
       "    .dataframe tbody tr th {\n",
       "        vertical-align: top;\n",
       "    }\n",
       "\n",
       "    .dataframe thead th {\n",
       "        text-align: right;\n",
       "    }\n",
       "</style>\n",
       "<table border=\"1\" class=\"dataframe\">\n",
       "  <thead>\n",
       "    <tr style=\"text-align: right;\">\n",
       "      <th>is_pass</th>\n",
       "      <th>0</th>\n",
       "      <th>1</th>\n",
       "      <th>All</th>\n",
       "    </tr>\n",
       "    <tr>\n",
       "      <th>education</th>\n",
       "      <th></th>\n",
       "      <th></th>\n",
       "      <th></th>\n",
       "    </tr>\n",
       "  </thead>\n",
       "  <tbody>\n",
       "    <tr>\n",
       "      <td>Bachelors</td>\n",
       "      <td>4.076722</td>\n",
       "      <td>11.755779</td>\n",
       "      <td>15.832502</td>\n",
       "    </tr>\n",
       "    <tr>\n",
       "      <td>High School Diploma</td>\n",
       "      <td>13.401780</td>\n",
       "      <td>33.587160</td>\n",
       "      <td>46.988940</td>\n",
       "    </tr>\n",
       "    <tr>\n",
       "      <td>Masters</td>\n",
       "      <td>0.116204</td>\n",
       "      <td>0.583756</td>\n",
       "      <td>0.699960</td>\n",
       "    </tr>\n",
       "    <tr>\n",
       "      <td>Matriculation</td>\n",
       "      <td>12.571944</td>\n",
       "      <td>23.203959</td>\n",
       "      <td>35.775903</td>\n",
       "    </tr>\n",
       "    <tr>\n",
       "      <td>No Qualification</td>\n",
       "      <td>0.292562</td>\n",
       "      <td>0.410133</td>\n",
       "      <td>0.702695</td>\n",
       "    </tr>\n",
       "    <tr>\n",
       "      <td>All</td>\n",
       "      <td>30.459212</td>\n",
       "      <td>69.540788</td>\n",
       "      <td>100.000000</td>\n",
       "    </tr>\n",
       "  </tbody>\n",
       "</table>\n",
       "</div>"
      ],
      "text/plain": [
       "is_pass                      0          1         All\n",
       "education                                            \n",
       "Bachelors             4.076722  11.755779   15.832502\n",
       "High School Diploma  13.401780  33.587160   46.988940\n",
       "Masters               0.116204   0.583756    0.699960\n",
       "Matriculation        12.571944  23.203959   35.775903\n",
       "No Qualification      0.292562   0.410133    0.702695\n",
       "All                  30.459212  69.540788  100.000000"
      ]
     },
     "execution_count": 22,
     "metadata": {},
     "output_type": "execute_result"
    }
   ],
   "source": [
    "education_percentage=pd.crosstab(df[\"education\"],df[\"is_pass\"],margins=True,normalize=True)*100\n",
    "education_percentage"
   ]
  },
  {
   "cell_type": "code",
   "execution_count": 23,
   "metadata": {},
   "outputs": [
    {
     "data": {
      "text/html": [
       "<div>\n",
       "<style scoped>\n",
       "    .dataframe tbody tr th:only-of-type {\n",
       "        vertical-align: middle;\n",
       "    }\n",
       "\n",
       "    .dataframe tbody tr th {\n",
       "        vertical-align: top;\n",
       "    }\n",
       "\n",
       "    .dataframe thead th {\n",
       "        text-align: right;\n",
       "    }\n",
       "</style>\n",
       "<table border=\"1\" class=\"dataframe\">\n",
       "  <thead>\n",
       "    <tr style=\"text-align: right;\">\n",
       "      <th>is_pass</th>\n",
       "      <th>0</th>\n",
       "      <th>1</th>\n",
       "      <th>All</th>\n",
       "    </tr>\n",
       "    <tr>\n",
       "      <th>trainee_engagement_rating</th>\n",
       "      <th></th>\n",
       "      <th></th>\n",
       "      <th></th>\n",
       "    </tr>\n",
       "  </thead>\n",
       "  <tbody>\n",
       "    <tr>\n",
       "      <td>0.0</td>\n",
       "      <td>0.053317</td>\n",
       "      <td>0.051950</td>\n",
       "      <td>0.105267</td>\n",
       "    </tr>\n",
       "    <tr>\n",
       "      <td>1.0</td>\n",
       "      <td>14.293136</td>\n",
       "      <td>20.698046</td>\n",
       "      <td>34.991182</td>\n",
       "    </tr>\n",
       "    <tr>\n",
       "      <td>2.0</td>\n",
       "      <td>7.417939</td>\n",
       "      <td>16.142836</td>\n",
       "      <td>23.560775</td>\n",
       "    </tr>\n",
       "    <tr>\n",
       "      <td>3.0</td>\n",
       "      <td>4.139609</td>\n",
       "      <td>11.654613</td>\n",
       "      <td>15.794223</td>\n",
       "    </tr>\n",
       "    <tr>\n",
       "      <td>4.0</td>\n",
       "      <td>3.506637</td>\n",
       "      <td>14.420277</td>\n",
       "      <td>17.926914</td>\n",
       "    </tr>\n",
       "    <tr>\n",
       "      <td>5.0</td>\n",
       "      <td>1.048573</td>\n",
       "      <td>6.573065</td>\n",
       "      <td>7.621639</td>\n",
       "    </tr>\n",
       "    <tr>\n",
       "      <td>All</td>\n",
       "      <td>30.459212</td>\n",
       "      <td>69.540788</td>\n",
       "      <td>100.000000</td>\n",
       "    </tr>\n",
       "  </tbody>\n",
       "</table>\n",
       "</div>"
      ],
      "text/plain": [
       "is_pass                            0          1         All\n",
       "trainee_engagement_rating                                  \n",
       "0.0                         0.053317   0.051950    0.105267\n",
       "1.0                        14.293136  20.698046   34.991182\n",
       "2.0                         7.417939  16.142836   23.560775\n",
       "3.0                         4.139609  11.654613   15.794223\n",
       "4.0                         3.506637  14.420277   17.926914\n",
       "5.0                         1.048573   6.573065    7.621639\n",
       "All                        30.459212  69.540788  100.000000"
      ]
     },
     "execution_count": 23,
     "metadata": {},
     "output_type": "execute_result"
    }
   ],
   "source": [
    "trainee_rating_percentage=pd.crosstab(df[\"trainee_engagement_rating\"],df[\"is_pass\"],margins=True,normalize=True)*100\n",
    "trainee_rating_percentage"
   ]
  },
  {
   "cell_type": "code",
   "execution_count": 24,
   "metadata": {},
   "outputs": [
    {
     "data": {
      "text/html": [
       "<div>\n",
       "<style scoped>\n",
       "    .dataframe tbody tr th:only-of-type {\n",
       "        vertical-align: middle;\n",
       "    }\n",
       "\n",
       "    .dataframe tbody tr th {\n",
       "        vertical-align: top;\n",
       "    }\n",
       "\n",
       "    .dataframe thead th {\n",
       "        text-align: right;\n",
       "    }\n",
       "</style>\n",
       "<table border=\"1\" class=\"dataframe\">\n",
       "  <thead>\n",
       "    <tr style=\"text-align: right;\">\n",
       "      <th>is_pass</th>\n",
       "      <th>0</th>\n",
       "      <th>1</th>\n",
       "      <th>All</th>\n",
       "    </tr>\n",
       "    <tr>\n",
       "      <th>program_type</th>\n",
       "      <th></th>\n",
       "      <th></th>\n",
       "      <th></th>\n",
       "    </tr>\n",
       "  </thead>\n",
       "  <tbody>\n",
       "    <tr>\n",
       "      <td>S</td>\n",
       "      <td>0.823000</td>\n",
       "      <td>0.989788</td>\n",
       "      <td>1.812788</td>\n",
       "    </tr>\n",
       "    <tr>\n",
       "      <td>T</td>\n",
       "      <td>7.602499</td>\n",
       "      <td>17.631619</td>\n",
       "      <td>25.234118</td>\n",
       "    </tr>\n",
       "    <tr>\n",
       "      <td>U</td>\n",
       "      <td>4.007000</td>\n",
       "      <td>6.685168</td>\n",
       "      <td>10.692168</td>\n",
       "    </tr>\n",
       "    <tr>\n",
       "      <td>V</td>\n",
       "      <td>7.374192</td>\n",
       "      <td>10.432417</td>\n",
       "      <td>17.806609</td>\n",
       "    </tr>\n",
       "    <tr>\n",
       "      <td>X</td>\n",
       "      <td>0.846241</td>\n",
       "      <td>3.703501</td>\n",
       "      <td>4.549742</td>\n",
       "    </tr>\n",
       "    <tr>\n",
       "      <td>Y</td>\n",
       "      <td>7.275760</td>\n",
       "      <td>23.566243</td>\n",
       "      <td>30.842003</td>\n",
       "    </tr>\n",
       "    <tr>\n",
       "      <td>Z</td>\n",
       "      <td>2.530521</td>\n",
       "      <td>6.532052</td>\n",
       "      <td>9.062573</td>\n",
       "    </tr>\n",
       "    <tr>\n",
       "      <td>All</td>\n",
       "      <td>30.459212</td>\n",
       "      <td>69.540788</td>\n",
       "      <td>100.000000</td>\n",
       "    </tr>\n",
       "  </tbody>\n",
       "</table>\n",
       "</div>"
      ],
      "text/plain": [
       "is_pass               0          1         All\n",
       "program_type                                  \n",
       "S              0.823000   0.989788    1.812788\n",
       "T              7.602499  17.631619   25.234118\n",
       "U              4.007000   6.685168   10.692168\n",
       "V              7.374192  10.432417   17.806609\n",
       "X              0.846241   3.703501    4.549742\n",
       "Y              7.275760  23.566243   30.842003\n",
       "Z              2.530521   6.532052    9.062573\n",
       "All           30.459212  69.540788  100.000000"
      ]
     },
     "execution_count": 24,
     "metadata": {},
     "output_type": "execute_result"
    }
   ],
   "source": [
    "program_type=pd.crosstab(df[\"program_type\"],df[\"is_pass\"],margins=True,normalize=True)*100\n",
    "program_type"
   ]
  },
  {
   "cell_type": "code",
   "execution_count": 25,
   "metadata": {},
   "outputs": [
    {
     "data": {
      "text/html": [
       "<div>\n",
       "<style scoped>\n",
       "    .dataframe tbody tr th:only-of-type {\n",
       "        vertical-align: middle;\n",
       "    }\n",
       "\n",
       "    .dataframe tbody tr th {\n",
       "        vertical-align: top;\n",
       "    }\n",
       "\n",
       "    .dataframe thead th {\n",
       "        text-align: right;\n",
       "    }\n",
       "</style>\n",
       "<table border=\"1\" class=\"dataframe\">\n",
       "  <thead>\n",
       "    <tr style=\"text-align: right;\">\n",
       "      <th>test_type</th>\n",
       "      <th>offline</th>\n",
       "      <th>online</th>\n",
       "      <th>All</th>\n",
       "    </tr>\n",
       "    <tr>\n",
       "      <th>difficulty_level</th>\n",
       "      <th></th>\n",
       "      <th></th>\n",
       "      <th></th>\n",
       "    </tr>\n",
       "  </thead>\n",
       "  <tbody>\n",
       "    <tr>\n",
       "      <td>easy</td>\n",
       "      <td>14.350554</td>\n",
       "      <td>40.471926</td>\n",
       "      <td>54.822481</td>\n",
       "    </tr>\n",
       "    <tr>\n",
       "      <td>hard</td>\n",
       "      <td>14.077132</td>\n",
       "      <td>0.000000</td>\n",
       "      <td>14.077132</td>\n",
       "    </tr>\n",
       "    <tr>\n",
       "      <td>intermediate</td>\n",
       "      <td>28.255431</td>\n",
       "      <td>0.000000</td>\n",
       "      <td>28.255431</td>\n",
       "    </tr>\n",
       "    <tr>\n",
       "      <td>vary hard</td>\n",
       "      <td>2.844956</td>\n",
       "      <td>0.000000</td>\n",
       "      <td>2.844956</td>\n",
       "    </tr>\n",
       "    <tr>\n",
       "      <td>All</td>\n",
       "      <td>59.528074</td>\n",
       "      <td>40.471926</td>\n",
       "      <td>100.000000</td>\n",
       "    </tr>\n",
       "  </tbody>\n",
       "</table>\n",
       "</div>"
      ],
      "text/plain": [
       "test_type           offline     online         All\n",
       "difficulty_level                                  \n",
       "easy              14.350554  40.471926   54.822481\n",
       "hard              14.077132   0.000000   14.077132\n",
       "intermediate      28.255431   0.000000   28.255431\n",
       "vary hard          2.844956   0.000000    2.844956\n",
       "All               59.528074  40.471926  100.000000"
      ]
     },
     "execution_count": 25,
     "metadata": {},
     "output_type": "execute_result"
    }
   ],
   "source": [
    "testtype_vs_difficulty=pd.crosstab(df[\"difficulty_level\"],df[\"test_type\"],margins=True,normalize=True)*100\n",
    "testtype_vs_difficulty"
   ]
  },
  {
   "cell_type": "code",
   "execution_count": 26,
   "metadata": {},
   "outputs": [],
   "source": [
    "#all the online test was easy. Therefore we can remove that data"
   ]
  },
  {
   "cell_type": "code",
   "execution_count": 27,
   "metadata": {
    "scrolled": false
   },
   "outputs": [
    {
     "data": {
      "text/html": [
       "<div>\n",
       "<style scoped>\n",
       "    .dataframe tbody tr th:only-of-type {\n",
       "        vertical-align: middle;\n",
       "    }\n",
       "\n",
       "    .dataframe tbody tr th {\n",
       "        vertical-align: top;\n",
       "    }\n",
       "\n",
       "    .dataframe thead th {\n",
       "        text-align: right;\n",
       "    }\n",
       "</style>\n",
       "<table border=\"1\" class=\"dataframe\">\n",
       "  <thead>\n",
       "    <tr style=\"text-align: right;\">\n",
       "      <th>program_duration</th>\n",
       "      <th>117</th>\n",
       "      <th>120</th>\n",
       "      <th>121</th>\n",
       "      <th>122</th>\n",
       "      <th>130</th>\n",
       "      <th>131</th>\n",
       "      <th>133</th>\n",
       "      <th>134</th>\n",
       "      <th>135</th>\n",
       "      <th>136</th>\n",
       "      <th>All</th>\n",
       "    </tr>\n",
       "    <tr>\n",
       "      <th>program_type</th>\n",
       "      <th></th>\n",
       "      <th></th>\n",
       "      <th></th>\n",
       "      <th></th>\n",
       "      <th></th>\n",
       "      <th></th>\n",
       "      <th></th>\n",
       "      <th></th>\n",
       "      <th></th>\n",
       "      <th></th>\n",
       "      <th></th>\n",
       "    </tr>\n",
       "  </thead>\n",
       "  <tbody>\n",
       "    <tr>\n",
       "      <td>S</td>\n",
       "      <td>0.000000</td>\n",
       "      <td>0.000000</td>\n",
       "      <td>0.000000</td>\n",
       "      <td>0.000000</td>\n",
       "      <td>0.000000</td>\n",
       "      <td>0.000000</td>\n",
       "      <td>0.000000</td>\n",
       "      <td>0.932369</td>\n",
       "      <td>0.880419</td>\n",
       "      <td>0.000000</td>\n",
       "      <td>1.812788</td>\n",
       "    </tr>\n",
       "    <tr>\n",
       "      <td>T</td>\n",
       "      <td>5.832092</td>\n",
       "      <td>6.551191</td>\n",
       "      <td>0.000000</td>\n",
       "      <td>0.000000</td>\n",
       "      <td>0.000000</td>\n",
       "      <td>4.309131</td>\n",
       "      <td>0.000000</td>\n",
       "      <td>8.541704</td>\n",
       "      <td>0.000000</td>\n",
       "      <td>0.000000</td>\n",
       "      <td>25.234118</td>\n",
       "    </tr>\n",
       "    <tr>\n",
       "      <td>U</td>\n",
       "      <td>0.000000</td>\n",
       "      <td>0.000000</td>\n",
       "      <td>0.000000</td>\n",
       "      <td>4.201129</td>\n",
       "      <td>0.000000</td>\n",
       "      <td>0.000000</td>\n",
       "      <td>0.000000</td>\n",
       "      <td>6.491039</td>\n",
       "      <td>0.000000</td>\n",
       "      <td>0.000000</td>\n",
       "      <td>10.692168</td>\n",
       "    </tr>\n",
       "    <tr>\n",
       "      <td>V</td>\n",
       "      <td>0.000000</td>\n",
       "      <td>0.000000</td>\n",
       "      <td>2.592041</td>\n",
       "      <td>5.879940</td>\n",
       "      <td>0.000000</td>\n",
       "      <td>4.674149</td>\n",
       "      <td>4.660478</td>\n",
       "      <td>0.000000</td>\n",
       "      <td>0.000000</td>\n",
       "      <td>0.000000</td>\n",
       "      <td>17.806609</td>\n",
       "    </tr>\n",
       "    <tr>\n",
       "      <td>X</td>\n",
       "      <td>0.000000</td>\n",
       "      <td>0.000000</td>\n",
       "      <td>1.058143</td>\n",
       "      <td>0.000000</td>\n",
       "      <td>0.000000</td>\n",
       "      <td>0.000000</td>\n",
       "      <td>0.000000</td>\n",
       "      <td>1.844231</td>\n",
       "      <td>0.000000</td>\n",
       "      <td>1.647368</td>\n",
       "      <td>4.549742</td>\n",
       "    </tr>\n",
       "    <tr>\n",
       "      <td>Y</td>\n",
       "      <td>0.000000</td>\n",
       "      <td>5.797914</td>\n",
       "      <td>6.847854</td>\n",
       "      <td>0.000000</td>\n",
       "      <td>0.000000</td>\n",
       "      <td>0.000000</td>\n",
       "      <td>0.000000</td>\n",
       "      <td>0.000000</td>\n",
       "      <td>9.054370</td>\n",
       "      <td>9.141865</td>\n",
       "      <td>30.842003</td>\n",
       "    </tr>\n",
       "    <tr>\n",
       "      <td>Z</td>\n",
       "      <td>0.000000</td>\n",
       "      <td>2.866830</td>\n",
       "      <td>0.000000</td>\n",
       "      <td>0.000000</td>\n",
       "      <td>3.635146</td>\n",
       "      <td>0.000000</td>\n",
       "      <td>0.000000</td>\n",
       "      <td>0.000000</td>\n",
       "      <td>0.000000</td>\n",
       "      <td>2.560597</td>\n",
       "      <td>9.062573</td>\n",
       "    </tr>\n",
       "    <tr>\n",
       "      <td>All</td>\n",
       "      <td>5.832092</td>\n",
       "      <td>15.215935</td>\n",
       "      <td>10.498038</td>\n",
       "      <td>10.081070</td>\n",
       "      <td>3.635146</td>\n",
       "      <td>8.983280</td>\n",
       "      <td>4.660478</td>\n",
       "      <td>17.809343</td>\n",
       "      <td>9.934789</td>\n",
       "      <td>13.349830</td>\n",
       "      <td>100.000000</td>\n",
       "    </tr>\n",
       "  </tbody>\n",
       "</table>\n",
       "</div>"
      ],
      "text/plain": [
       "program_duration       117        120        121        122       130  \\\n",
       "program_type                                                            \n",
       "S                 0.000000   0.000000   0.000000   0.000000  0.000000   \n",
       "T                 5.832092   6.551191   0.000000   0.000000  0.000000   \n",
       "U                 0.000000   0.000000   0.000000   4.201129  0.000000   \n",
       "V                 0.000000   0.000000   2.592041   5.879940  0.000000   \n",
       "X                 0.000000   0.000000   1.058143   0.000000  0.000000   \n",
       "Y                 0.000000   5.797914   6.847854   0.000000  0.000000   \n",
       "Z                 0.000000   2.866830   0.000000   0.000000  3.635146   \n",
       "All               5.832092  15.215935  10.498038  10.081070  3.635146   \n",
       "\n",
       "program_duration       131       133        134       135        136  \\\n",
       "program_type                                                           \n",
       "S                 0.000000  0.000000   0.932369  0.880419   0.000000   \n",
       "T                 4.309131  0.000000   8.541704  0.000000   0.000000   \n",
       "U                 0.000000  0.000000   6.491039  0.000000   0.000000   \n",
       "V                 4.674149  4.660478   0.000000  0.000000   0.000000   \n",
       "X                 0.000000  0.000000   1.844231  0.000000   1.647368   \n",
       "Y                 0.000000  0.000000   0.000000  9.054370   9.141865   \n",
       "Z                 0.000000  0.000000   0.000000  0.000000   2.560597   \n",
       "All               8.983280  4.660478  17.809343  9.934789  13.349830   \n",
       "\n",
       "program_duration         All  \n",
       "program_type                  \n",
       "S                   1.812788  \n",
       "T                  25.234118  \n",
       "U                  10.692168  \n",
       "V                  17.806609  \n",
       "X                   4.549742  \n",
       "Y                  30.842003  \n",
       "Z                   9.062573  \n",
       "All               100.000000  "
      ]
     },
     "execution_count": 27,
     "metadata": {},
     "output_type": "execute_result"
    }
   ],
   "source": [
    "programtype_vs_duration=pd.crosstab(df[\"program_type\"],df[\"program_duration\"],margins=True,normalize=True)*100\n",
    "programtype_vs_duration"
   ]
  },
  {
   "cell_type": "code",
   "execution_count": 28,
   "metadata": {},
   "outputs": [
    {
     "data": {
      "text/html": [
       "<div>\n",
       "<style scoped>\n",
       "    .dataframe tbody tr th:only-of-type {\n",
       "        vertical-align: middle;\n",
       "    }\n",
       "\n",
       "    .dataframe tbody tr th {\n",
       "        vertical-align: top;\n",
       "    }\n",
       "\n",
       "    .dataframe thead th {\n",
       "        text-align: right;\n",
       "    }\n",
       "</style>\n",
       "<table border=\"1\" class=\"dataframe\">\n",
       "  <thead>\n",
       "    <tr style=\"text-align: right;\">\n",
       "      <th>program_duration</th>\n",
       "      <th>117</th>\n",
       "      <th>120</th>\n",
       "      <th>121</th>\n",
       "      <th>122</th>\n",
       "      <th>130</th>\n",
       "      <th>131</th>\n",
       "      <th>133</th>\n",
       "      <th>134</th>\n",
       "      <th>135</th>\n",
       "      <th>136</th>\n",
       "    </tr>\n",
       "    <tr>\n",
       "      <th>is_pass</th>\n",
       "      <th></th>\n",
       "      <th></th>\n",
       "      <th></th>\n",
       "      <th></th>\n",
       "      <th></th>\n",
       "      <th></th>\n",
       "      <th></th>\n",
       "      <th></th>\n",
       "      <th></th>\n",
       "      <th></th>\n",
       "    </tr>\n",
       "  </thead>\n",
       "  <tbody>\n",
       "    <tr>\n",
       "      <td>0</td>\n",
       "      <td>1107</td>\n",
       "      <td>2887</td>\n",
       "      <td>2090</td>\n",
       "      <td>3063</td>\n",
       "      <td>707</td>\n",
       "      <td>3001</td>\n",
       "      <td>1320</td>\n",
       "      <td>3868</td>\n",
       "      <td>2013</td>\n",
       "      <td>2224</td>\n",
       "    </tr>\n",
       "    <tr>\n",
       "      <td>1</td>\n",
       "      <td>3159</td>\n",
       "      <td>8243</td>\n",
       "      <td>5589</td>\n",
       "      <td>4311</td>\n",
       "      <td>1952</td>\n",
       "      <td>3570</td>\n",
       "      <td>2089</td>\n",
       "      <td>9159</td>\n",
       "      <td>5254</td>\n",
       "      <td>7541</td>\n",
       "    </tr>\n",
       "  </tbody>\n",
       "</table>\n",
       "</div>"
      ],
      "text/plain": [
       "program_duration   117   120   121   122   130   131   133   134   135   136\n",
       "is_pass                                                                     \n",
       "0                 1107  2887  2090  3063   707  3001  1320  3868  2013  2224\n",
       "1                 3159  8243  5589  4311  1952  3570  2089  9159  5254  7541"
      ]
     },
     "execution_count": 28,
     "metadata": {},
     "output_type": "execute_result"
    }
   ],
   "source": [
    "summary=pd.crosstab(df[\"is_pass\"],df[\"program_duration\"])\n",
    "summary"
   ]
  },
  {
   "cell_type": "code",
   "execution_count": 29,
   "metadata": {
    "scrolled": true
   },
   "outputs": [
    {
     "data": {
      "image/png": "[encoded data removed]",
      "text/plain": [
       "<Figure size 864x576 with 1 Axes>"
      ]
     },
     "metadata": {
      "needs_background": "light"
     },
     "output_type": "display_data"
    }
   ],
   "source": [
    "plt.rcParams[\"figure.figsize\"]=[12,8]\n",
    "summary.plot(kind=\"bar\",stacked=True)\n",
    "plt.show()"
   ]
  },
  {
   "cell_type": "code",
   "execution_count": 30,
   "metadata": {},
   "outputs": [],
   "source": [
    "df2=df2.drop(\"test_type\",axis=1)"
   ]
  },
  {
   "cell_type": "code",
   "execution_count": 31,
   "metadata": {},
   "outputs": [],
   "source": [
    "#since the no. fo handicapped is very small and also the ratio of the pass and fail is in line for handicapped and non-handicapped, the feature is not being considered."
   ]
  },
  {
   "cell_type": "code",
   "execution_count": 32,
   "metadata": {},
   "outputs": [
    {
     "data": {
      "text/html": [
       "<div>\n",
       "<style scoped>\n",
       "    .dataframe tbody tr th:only-of-type {\n",
       "        vertical-align: middle;\n",
       "    }\n",
       "\n",
       "    .dataframe tbody tr th {\n",
       "        vertical-align: top;\n",
       "    }\n",
       "\n",
       "    .dataframe thead th {\n",
       "        text-align: right;\n",
       "    }\n",
       "</style>\n",
       "<table border=\"1\" class=\"dataframe\">\n",
       "  <thead>\n",
       "    <tr style=\"text-align: right;\">\n",
       "      <th>is_handicapped</th>\n",
       "      <th>N</th>\n",
       "      <th>Y</th>\n",
       "    </tr>\n",
       "    <tr>\n",
       "      <th>is_pass</th>\n",
       "      <th></th>\n",
       "      <th></th>\n",
       "    </tr>\n",
       "  </thead>\n",
       "  <tbody>\n",
       "    <tr>\n",
       "      <td>0</td>\n",
       "      <td>0.299247</td>\n",
       "      <td>0.358752</td>\n",
       "    </tr>\n",
       "    <tr>\n",
       "      <td>1</td>\n",
       "      <td>0.700753</td>\n",
       "      <td>0.641248</td>\n",
       "    </tr>\n",
       "  </tbody>\n",
       "</table>\n",
       "</div>"
      ],
      "text/plain": [
       "is_handicapped         N         Y\n",
       "is_pass                           \n",
       "0               0.299247  0.358752\n",
       "1               0.700753  0.641248"
      ]
     },
     "execution_count": 32,
     "metadata": {},
     "output_type": "execute_result"
    }
   ],
   "source": [
    "handicapped=pd.crosstab(df[\"is_pass\"],df[\"is_handicapped\"]).apply(lambda x:x/x.sum(),axis=0)\n",
    "handicapped"
   ]
  },
  {
   "cell_type": "code",
   "execution_count": 33,
   "metadata": {},
   "outputs": [],
   "source": [
    "df2=df2.drop(\"is_handicapped\",axis=1)"
   ]
  },
  {
   "cell_type": "code",
   "execution_count": 34,
   "metadata": {},
   "outputs": [],
   "source": [
    "df2[\"trainee_engagement_rating\"].fillna(0,inplace=True)"
   ]
  },
  {
   "cell_type": "code",
   "execution_count": 35,
   "metadata": {
    "scrolled": true
   },
   "outputs": [
    {
     "name": "stdout",
     "output_type": "stream",
     "text": [
      "<class 'pandas.core.frame.DataFrame'>\n",
      "RangeIndex: 73147 entries, 0 to 73146\n",
      "Data columns (total 10 columns):\n",
      "program_type                 73147 non-null object\n",
      "program_duration             73147 non-null int64\n",
      "difficulty_level             73147 non-null object\n",
      "gender                       73147 non-null object\n",
      "education                    73147 non-null object\n",
      "city_tier                    73147 non-null int64\n",
      "age                          45418 non-null float64\n",
      "total_programs_enrolled      73147 non-null int64\n",
      "trainee_engagement_rating    73147 non-null float64\n",
      "is_pass                      73147 non-null int64\n",
      "dtypes: float64(2), int64(4), object(4)\n",
      "memory usage: 5.6+ MB\n"
     ]
    }
   ],
   "source": [
    "df2.info()"
   ]
  },
  {
   "cell_type": "code",
   "execution_count": 36,
   "metadata": {},
   "outputs": [
    {
     "data": {
      "text/plain": [
       "count    45418.000000\n",
       "mean        36.494033\n",
       "std          9.041119\n",
       "min         17.000000\n",
       "25%         28.000000\n",
       "50%         39.000000\n",
       "75%         45.000000\n",
       "max         63.000000\n",
       "Name: age, dtype: float64"
      ]
     },
     "execution_count": 36,
     "metadata": {},
     "output_type": "execute_result"
    }
   ],
   "source": [
    "df2[\"age\"].describe()"
   ]
  },
  {
   "cell_type": "code",
   "execution_count": 37,
   "metadata": {},
   "outputs": [],
   "source": [
    "df2[\"age\"].fillna(36.49,inplace=True)"
   ]
  },
  {
   "cell_type": "code",
   "execution_count": 38,
   "metadata": {},
   "outputs": [],
   "source": [
    "df2['total_programs_enrolled']=np.where(df2['total_programs_enrolled'] ==1, '<=3',df2[\"total_programs_enrolled\"])  \n",
    "for i in range (2,15):\n",
    "    if i<4:\n",
    "        df2['total_programs_enrolled']=np.where(df2['total_programs_enrolled'] ==str(i),'<=3',df2['total_programs_enrolled'])\n",
    "    elif i<7:\n",
    "        df2['total_programs_enrolled']=np.where(df2['total_programs_enrolled'] ==str(i),'[4-6]',df2['total_programs_enrolled'])\n",
    "    elif i<10:\n",
    "        df2['total_programs_enrolled']=np.where(df2['total_programs_enrolled'] ==str(i),'[7-9]',df2['total_programs_enrolled'])\n",
    "    else:\n",
    "        df2['total_programs_enrolled']=np.where(df2['total_programs_enrolled'] ==str(i),'> 9',df2['total_programs_enrolled'])\n",
    "    i+=1"
   ]
  },
  {
   "cell_type": "code",
   "execution_count": 39,
   "metadata": {},
   "outputs": [],
   "source": [
    "df2.drop(\"gender\",axis=1,inplace=True)"
   ]
  },
  {
   "cell_type": "code",
   "execution_count": 40,
   "metadata": {},
   "outputs": [],
   "source": [
    "df2.drop([\"program_type\",\"city_tier\"],axis=1,inplace=True)"
   ]
  },
  {
   "cell_type": "code",
   "execution_count": 41,
   "metadata": {},
   "outputs": [],
   "source": [
    "program_duration=df2[\"program_duration\"].unique()"
   ]
  },
  {
   "cell_type": "code",
   "execution_count": 42,
   "metadata": {},
   "outputs": [],
   "source": [
    "df2['program_duration']=np.where(df2['program_duration'] ==117, '<120',df2[\"program_duration\"])  \n",
    "for i in program_duration:\n",
    "    if i<130:\n",
    "        df2['program_duration']=np.where(df2[\"program_duration\"] ==str(i),'[120 - 130)',df2[\"program_duration\"])\n",
    "    else:\n",
    "        df2[\"program_duration\"]=np.where(df2[\"program_duration\"]==str(i),'>=130',df2[\"program_duration\"])"
   ]
  },
  {
   "cell_type": "code",
   "execution_count": 43,
   "metadata": {},
   "outputs": [
    {
     "data": {
      "text/plain": [
       "array(['>=130', '[120 - 130)', '<120'], dtype=object)"
      ]
     },
     "execution_count": 43,
     "metadata": {},
     "output_type": "execute_result"
    }
   ],
   "source": [
    "df2[\"program_duration\"].unique()"
   ]
  },
  {
   "cell_type": "code",
   "execution_count": 44,
   "metadata": {},
   "outputs": [
    {
     "data": {
      "text/html": [
       "<div>\n",
       "<style scoped>\n",
       "    .dataframe tbody tr th:only-of-type {\n",
       "        vertical-align: middle;\n",
       "    }\n",
       "\n",
       "    .dataframe tbody tr th {\n",
       "        vertical-align: top;\n",
       "    }\n",
       "\n",
       "    .dataframe thead th {\n",
       "        text-align: right;\n",
       "    }\n",
       "</style>\n",
       "<table border=\"1\" class=\"dataframe\">\n",
       "  <thead>\n",
       "    <tr style=\"text-align: right;\">\n",
       "      <th></th>\n",
       "      <th>program_duration</th>\n",
       "      <th>difficulty_level</th>\n",
       "      <th>education</th>\n",
       "      <th>age</th>\n",
       "      <th>total_programs_enrolled</th>\n",
       "      <th>trainee_engagement_rating</th>\n",
       "      <th>is_pass</th>\n",
       "    </tr>\n",
       "  </thead>\n",
       "  <tbody>\n",
       "    <tr>\n",
       "      <td>0</td>\n",
       "      <td>&gt;=130</td>\n",
       "      <td>intermediate</td>\n",
       "      <td>Matriculation</td>\n",
       "      <td>24.00</td>\n",
       "      <td>[4-6]</td>\n",
       "      <td>1.0</td>\n",
       "      <td>0</td>\n",
       "    </tr>\n",
       "    <tr>\n",
       "      <td>1</td>\n",
       "      <td>&gt;=130</td>\n",
       "      <td>easy</td>\n",
       "      <td>High School Diploma</td>\n",
       "      <td>26.00</td>\n",
       "      <td>&lt;=3</td>\n",
       "      <td>3.0</td>\n",
       "      <td>1</td>\n",
       "    </tr>\n",
       "    <tr>\n",
       "      <td>2</td>\n",
       "      <td>[120 - 130)</td>\n",
       "      <td>easy</td>\n",
       "      <td>Matriculation</td>\n",
       "      <td>40.00</td>\n",
       "      <td>&lt;=3</td>\n",
       "      <td>2.0</td>\n",
       "      <td>1</td>\n",
       "    </tr>\n",
       "    <tr>\n",
       "      <td>3</td>\n",
       "      <td>&lt;120</td>\n",
       "      <td>easy</td>\n",
       "      <td>Matriculation</td>\n",
       "      <td>36.49</td>\n",
       "      <td>[4-6]</td>\n",
       "      <td>1.0</td>\n",
       "      <td>1</td>\n",
       "    </tr>\n",
       "    <tr>\n",
       "      <td>4</td>\n",
       "      <td>&gt;=130</td>\n",
       "      <td>intermediate</td>\n",
       "      <td>High School Diploma</td>\n",
       "      <td>42.00</td>\n",
       "      <td>&lt;=3</td>\n",
       "      <td>4.0</td>\n",
       "      <td>1</td>\n",
       "    </tr>\n",
       "  </tbody>\n",
       "</table>\n",
       "</div>"
      ],
      "text/plain": [
       "  program_duration difficulty_level            education    age  \\\n",
       "0            >=130     intermediate        Matriculation  24.00   \n",
       "1            >=130             easy  High School Diploma  26.00   \n",
       "2      [120 - 130)             easy        Matriculation  40.00   \n",
       "3             <120             easy        Matriculation  36.49   \n",
       "4            >=130     intermediate  High School Diploma  42.00   \n",
       "\n",
       "  total_programs_enrolled  trainee_engagement_rating  is_pass  \n",
       "0                   [4-6]                        1.0        0  \n",
       "1                     <=3                        3.0        1  \n",
       "2                     <=3                        2.0        1  \n",
       "3                   [4-6]                        1.0        1  \n",
       "4                     <=3                        4.0        1  "
      ]
     },
     "execution_count": 44,
     "metadata": {},
     "output_type": "execute_result"
    }
   ],
   "source": [
    "df2.head()"
   ]
  },
  {
   "cell_type": "markdown",
   "metadata": {},
   "source": [
    "### create dummy variables\n"
   ]
  },
  {
   "cell_type": "code",
   "execution_count": 45,
   "metadata": {},
   "outputs": [],
   "source": [
    "cat_vars=[\"difficulty_level\",\"education\",\"total_programs_enrolled\",\"trainee_engagement_rating\",'program_duration']\n",
    "for var in cat_vars:\n",
    "    cat_list='var'+'_'+var\n",
    "    cat_list = pd.get_dummies(df2[var], prefix=var,drop_first=True)\n",
    "    data1=df2.join(cat_list)\n",
    "    df2=data1\n",
    "cat_vars=[\"difficulty_level\",\"education\",\"total_programs_enrolled\",\"trainee_engagement_rating\",\"program_duration\"]\n",
    "data_vars=df2.columns.values.tolist()\n",
    "to_keep=[i for i in data_vars if i not in cat_vars]"
   ]
  },
  {
   "cell_type": "code",
   "execution_count": 46,
   "metadata": {},
   "outputs": [
    {
     "data": {
      "text/plain": [
       "array(['age', 'is_pass', 'difficulty_level_hard',\n",
       "       'difficulty_level_intermediate', 'difficulty_level_vary hard',\n",
       "       'education_High School Diploma', 'education_Masters',\n",
       "       'education_Matriculation', 'education_No Qualification',\n",
       "       'total_programs_enrolled_> 9', 'total_programs_enrolled_[4-6]',\n",
       "       'total_programs_enrolled_[7-9]', 'trainee_engagement_rating_1.0',\n",
       "       'trainee_engagement_rating_2.0', 'trainee_engagement_rating_3.0',\n",
       "       'trainee_engagement_rating_4.0', 'trainee_engagement_rating_5.0',\n",
       "       'program_duration_>=130', 'program_duration_[120 - 130)'],\n",
       "      dtype=object)"
      ]
     },
     "execution_count": 46,
     "metadata": {},
     "output_type": "execute_result"
    }
   ],
   "source": [
    "data_final=df2[to_keep]\n",
    "data_final.columns.values"
   ]
  },
  {
   "cell_type": "code",
   "execution_count": 47,
   "metadata": {},
   "outputs": [],
   "source": [
    "Y=data_final['is_pass']\n",
    "X=data_final.drop(['is_pass'],axis=1)"
   ]
  },
  {
   "cell_type": "code",
   "execution_count": 48,
   "metadata": {},
   "outputs": [
    {
     "data": {
      "text/html": [
       "<div>\n",
       "<style scoped>\n",
       "    .dataframe tbody tr th:only-of-type {\n",
       "        vertical-align: middle;\n",
       "    }\n",
       "\n",
       "    .dataframe tbody tr th {\n",
       "        vertical-align: top;\n",
       "    }\n",
       "\n",
       "    .dataframe thead th {\n",
       "        text-align: right;\n",
       "    }\n",
       "</style>\n",
       "<table border=\"1\" class=\"dataframe\">\n",
       "  <thead>\n",
       "    <tr style=\"text-align: right;\">\n",
       "      <th></th>\n",
       "      <th>age</th>\n",
       "      <th>is_pass</th>\n",
       "      <th>difficulty_level_hard</th>\n",
       "      <th>difficulty_level_intermediate</th>\n",
       "      <th>difficulty_level_vary hard</th>\n",
       "      <th>education_High School Diploma</th>\n",
       "      <th>education_Masters</th>\n",
       "      <th>education_Matriculation</th>\n",
       "      <th>education_No Qualification</th>\n",
       "      <th>total_programs_enrolled_&gt; 9</th>\n",
       "      <th>total_programs_enrolled_[4-6]</th>\n",
       "      <th>total_programs_enrolled_[7-9]</th>\n",
       "      <th>trainee_engagement_rating_1.0</th>\n",
       "      <th>trainee_engagement_rating_2.0</th>\n",
       "      <th>trainee_engagement_rating_3.0</th>\n",
       "      <th>trainee_engagement_rating_4.0</th>\n",
       "      <th>trainee_engagement_rating_5.0</th>\n",
       "      <th>program_duration_&gt;=130</th>\n",
       "      <th>program_duration_[120 - 130)</th>\n",
       "    </tr>\n",
       "  </thead>\n",
       "  <tbody>\n",
       "    <tr>\n",
       "      <td>0</td>\n",
       "      <td>24.00</td>\n",
       "      <td>0</td>\n",
       "      <td>0</td>\n",
       "      <td>1</td>\n",
       "      <td>0</td>\n",
       "      <td>0</td>\n",
       "      <td>0</td>\n",
       "      <td>1</td>\n",
       "      <td>0</td>\n",
       "      <td>0</td>\n",
       "      <td>1</td>\n",
       "      <td>0</td>\n",
       "      <td>1</td>\n",
       "      <td>0</td>\n",
       "      <td>0</td>\n",
       "      <td>0</td>\n",
       "      <td>0</td>\n",
       "      <td>1</td>\n",
       "      <td>0</td>\n",
       "    </tr>\n",
       "    <tr>\n",
       "      <td>1</td>\n",
       "      <td>26.00</td>\n",
       "      <td>1</td>\n",
       "      <td>0</td>\n",
       "      <td>0</td>\n",
       "      <td>0</td>\n",
       "      <td>1</td>\n",
       "      <td>0</td>\n",
       "      <td>0</td>\n",
       "      <td>0</td>\n",
       "      <td>0</td>\n",
       "      <td>0</td>\n",
       "      <td>0</td>\n",
       "      <td>0</td>\n",
       "      <td>0</td>\n",
       "      <td>1</td>\n",
       "      <td>0</td>\n",
       "      <td>0</td>\n",
       "      <td>1</td>\n",
       "      <td>0</td>\n",
       "    </tr>\n",
       "    <tr>\n",
       "      <td>2</td>\n",
       "      <td>40.00</td>\n",
       "      <td>1</td>\n",
       "      <td>0</td>\n",
       "      <td>0</td>\n",
       "      <td>0</td>\n",
       "      <td>0</td>\n",
       "      <td>0</td>\n",
       "      <td>1</td>\n",
       "      <td>0</td>\n",
       "      <td>0</td>\n",
       "      <td>0</td>\n",
       "      <td>0</td>\n",
       "      <td>0</td>\n",
       "      <td>1</td>\n",
       "      <td>0</td>\n",
       "      <td>0</td>\n",
       "      <td>0</td>\n",
       "      <td>0</td>\n",
       "      <td>1</td>\n",
       "    </tr>\n",
       "    <tr>\n",
       "      <td>3</td>\n",
       "      <td>36.49</td>\n",
       "      <td>1</td>\n",
       "      <td>0</td>\n",
       "      <td>0</td>\n",
       "      <td>0</td>\n",
       "      <td>0</td>\n",
       "      <td>0</td>\n",
       "      <td>1</td>\n",
       "      <td>0</td>\n",
       "      <td>0</td>\n",
       "      <td>1</td>\n",
       "      <td>0</td>\n",
       "      <td>1</td>\n",
       "      <td>0</td>\n",
       "      <td>0</td>\n",
       "      <td>0</td>\n",
       "      <td>0</td>\n",
       "      <td>0</td>\n",
       "      <td>0</td>\n",
       "    </tr>\n",
       "    <tr>\n",
       "      <td>4</td>\n",
       "      <td>42.00</td>\n",
       "      <td>1</td>\n",
       "      <td>0</td>\n",
       "      <td>1</td>\n",
       "      <td>0</td>\n",
       "      <td>1</td>\n",
       "      <td>0</td>\n",
       "      <td>0</td>\n",
       "      <td>0</td>\n",
       "      <td>0</td>\n",
       "      <td>0</td>\n",
       "      <td>0</td>\n",
       "      <td>0</td>\n",
       "      <td>0</td>\n",
       "      <td>0</td>\n",
       "      <td>1</td>\n",
       "      <td>0</td>\n",
       "      <td>1</td>\n",
       "      <td>0</td>\n",
       "    </tr>\n",
       "  </tbody>\n",
       "</table>\n",
       "</div>"
      ],
      "text/plain": [
       "     age  is_pass  difficulty_level_hard  difficulty_level_intermediate  \\\n",
       "0  24.00        0                      0                              1   \n",
       "1  26.00        1                      0                              0   \n",
       "2  40.00        1                      0                              0   \n",
       "3  36.49        1                      0                              0   \n",
       "4  42.00        1                      0                              1   \n",
       "\n",
       "   difficulty_level_vary hard  education_High School Diploma  \\\n",
       "0                           0                              0   \n",
       "1                           0                              1   \n",
       "2                           0                              0   \n",
       "3                           0                              0   \n",
       "4                           0                              1   \n",
       "\n",
       "   education_Masters  education_Matriculation  education_No Qualification  \\\n",
       "0                  0                        1                           0   \n",
       "1                  0                        0                           0   \n",
       "2                  0                        1                           0   \n",
       "3                  0                        1                           0   \n",
       "4                  0                        0                           0   \n",
       "\n",
       "   total_programs_enrolled_> 9  total_programs_enrolled_[4-6]  \\\n",
       "0                            0                              1   \n",
       "1                            0                              0   \n",
       "2                            0                              0   \n",
       "3                            0                              1   \n",
       "4                            0                              0   \n",
       "\n",
       "   total_programs_enrolled_[7-9]  trainee_engagement_rating_1.0  \\\n",
       "0                              0                              1   \n",
       "1                              0                              0   \n",
       "2                              0                              0   \n",
       "3                              0                              1   \n",
       "4                              0                              0   \n",
       "\n",
       "   trainee_engagement_rating_2.0  trainee_engagement_rating_3.0  \\\n",
       "0                              0                              0   \n",
       "1                              0                              1   \n",
       "2                              1                              0   \n",
       "3                              0                              0   \n",
       "4                              0                              0   \n",
       "\n",
       "   trainee_engagement_rating_4.0  trainee_engagement_rating_5.0  \\\n",
       "0                              0                              0   \n",
       "1                              0                              0   \n",
       "2                              0                              0   \n",
       "3                              0                              0   \n",
       "4                              1                              0   \n",
       "\n",
       "   program_duration_>=130  program_duration_[120 - 130)  \n",
       "0                       1                             0  \n",
       "1                       1                             0  \n",
       "2                       0                             1  \n",
       "3                       0                             0  \n",
       "4                       1                             0  "
      ]
     },
     "execution_count": 48,
     "metadata": {},
     "output_type": "execute_result"
    }
   ],
   "source": [
    "data_final.head()"
   ]
  },
  {
   "cell_type": "code",
   "execution_count": 49,
   "metadata": {},
   "outputs": [],
   "source": [
    "from sklearn.linear_model import LogisticRegression\n",
    "from sklearn.model_selection import train_test_split"
   ]
  },
  {
   "cell_type": "code",
   "execution_count": 50,
   "metadata": {},
   "outputs": [
    {
     "name": "stderr",
     "output_type": "stream",
     "text": [
      "C:\\Users\\brvis\\Anaconda3\\lib\\site-packages\\sklearn\\linear_model\\logistic.py:432: FutureWarning: Default solver will be changed to 'lbfgs' in 0.22. Specify a solver to silence this warning.\n",
      "  FutureWarning)\n"
     ]
    },
    {
     "data": {
      "text/plain": [
       "LogisticRegression(C=1.0, class_weight=None, dual=False, fit_intercept=True,\n",
       "                   intercept_scaling=1, l1_ratio=None, max_iter=100,\n",
       "                   multi_class='warn', n_jobs=None, penalty='l2',\n",
       "                   random_state=None, solver='warn', tol=0.0001, verbose=0,\n",
       "                   warm_start=False)"
      ]
     },
     "execution_count": 50,
     "metadata": {},
     "output_type": "execute_result"
    }
   ],
   "source": [
    "X_train, X_test, y_train, y_test = train_test_split(X, Y, test_size=0.33, random_state=1)\n",
    "logmodel=LogisticRegression()\n",
    "logmodel.fit(X_train,y_train)"
   ]
  },
  {
   "cell_type": "code",
   "execution_count": 51,
   "metadata": {},
   "outputs": [
    {
     "data": {
      "text/plain": [
       "array([[  966,  6425],\n",
       "       [  592, 16156]], dtype=int64)"
      ]
     },
     "execution_count": 51,
     "metadata": {},
     "output_type": "execute_result"
    }
   ],
   "source": [
    "predictions=logmodel.predict(X_test)\n",
    "from sklearn.metrics import confusion_matrix\n",
    "confusion_matrix(y_test,predictions)"
   ]
  },
  {
   "cell_type": "code",
   "execution_count": 52,
   "metadata": {},
   "outputs": [
    {
     "data": {
      "text/plain": [
       "0.7093085877625419"
      ]
     },
     "execution_count": 52,
     "metadata": {},
     "output_type": "execute_result"
    }
   ],
   "source": [
    "from sklearn.metrics import accuracy_score\n",
    "accuracy_score(y_test,predictions)"
   ]
  },
  {
   "cell_type": "code",
   "execution_count": 53,
   "metadata": {},
   "outputs": [],
   "source": [
    "to_predict=pd.read_csv(\"D:\\Project\\Machine_learning_project1\\data1.csv\")"
   ]
  },
  {
   "cell_type": "code",
   "execution_count": 54,
   "metadata": {},
   "outputs": [],
   "source": [
    "for_submission=to_predict.copy()"
   ]
  },
  {
   "cell_type": "code",
   "execution_count": 55,
   "metadata": {},
   "outputs": [
    {
     "data": {
      "text/html": [
       "<div>\n",
       "<style scoped>\n",
       "    .dataframe tbody tr th:only-of-type {\n",
       "        vertical-align: middle;\n",
       "    }\n",
       "\n",
       "    .dataframe tbody tr th {\n",
       "        vertical-align: top;\n",
       "    }\n",
       "\n",
       "    .dataframe thead th {\n",
       "        text-align: right;\n",
       "    }\n",
       "</style>\n",
       "<table border=\"1\" class=\"dataframe\">\n",
       "  <thead>\n",
       "    <tr style=\"text-align: right;\">\n",
       "      <th></th>\n",
       "      <th>id</th>\n",
       "      <th>program_id</th>\n",
       "      <th>program_type</th>\n",
       "      <th>program_duration</th>\n",
       "      <th>test_id</th>\n",
       "      <th>test_type</th>\n",
       "      <th>difficulty_level</th>\n",
       "      <th>trainee_id</th>\n",
       "      <th>gender</th>\n",
       "      <th>education</th>\n",
       "      <th>city_tier</th>\n",
       "      <th>age</th>\n",
       "      <th>total_programs_enrolled</th>\n",
       "      <th>is_handicapped</th>\n",
       "      <th>trainee_engagement_rating</th>\n",
       "    </tr>\n",
       "  </thead>\n",
       "  <tbody>\n",
       "    <tr>\n",
       "      <td>0</td>\n",
       "      <td>1626_45</td>\n",
       "      <td>T_1</td>\n",
       "      <td>T</td>\n",
       "      <td>131</td>\n",
       "      <td>45</td>\n",
       "      <td>offline</td>\n",
       "      <td>intermediate</td>\n",
       "      <td>1626</td>\n",
       "      <td>F</td>\n",
       "      <td>Matriculation</td>\n",
       "      <td>3</td>\n",
       "      <td>46.0</td>\n",
       "      <td>2</td>\n",
       "      <td>N</td>\n",
       "      <td>4.0</td>\n",
       "    </tr>\n",
       "    <tr>\n",
       "      <td>1</td>\n",
       "      <td>11020_130</td>\n",
       "      <td>Y_3</td>\n",
       "      <td>Y</td>\n",
       "      <td>135</td>\n",
       "      <td>130</td>\n",
       "      <td>online</td>\n",
       "      <td>easy</td>\n",
       "      <td>11020</td>\n",
       "      <td>M</td>\n",
       "      <td>Bachelors</td>\n",
       "      <td>3</td>\n",
       "      <td>NaN</td>\n",
       "      <td>4</td>\n",
       "      <td>N</td>\n",
       "      <td>4.0</td>\n",
       "    </tr>\n",
       "    <tr>\n",
       "      <td>2</td>\n",
       "      <td>12652_146</td>\n",
       "      <td>Y_2</td>\n",
       "      <td>Y</td>\n",
       "      <td>120</td>\n",
       "      <td>146</td>\n",
       "      <td>online</td>\n",
       "      <td>easy</td>\n",
       "      <td>12652</td>\n",
       "      <td>M</td>\n",
       "      <td>Matriculation</td>\n",
       "      <td>3</td>\n",
       "      <td>NaN</td>\n",
       "      <td>2</td>\n",
       "      <td>N</td>\n",
       "      <td>3.0</td>\n",
       "    </tr>\n",
       "    <tr>\n",
       "      <td>3</td>\n",
       "      <td>7038_72</td>\n",
       "      <td>V_4</td>\n",
       "      <td>V</td>\n",
       "      <td>122</td>\n",
       "      <td>72</td>\n",
       "      <td>offline</td>\n",
       "      <td>vary hard</td>\n",
       "      <td>7038</td>\n",
       "      <td>F</td>\n",
       "      <td>High School Diploma</td>\n",
       "      <td>1</td>\n",
       "      <td>NaN</td>\n",
       "      <td>2</td>\n",
       "      <td>N</td>\n",
       "      <td>2.0</td>\n",
       "    </tr>\n",
       "    <tr>\n",
       "      <td>4</td>\n",
       "      <td>888_71</td>\n",
       "      <td>V_4</td>\n",
       "      <td>V</td>\n",
       "      <td>122</td>\n",
       "      <td>71</td>\n",
       "      <td>offline</td>\n",
       "      <td>intermediate</td>\n",
       "      <td>888</td>\n",
       "      <td>F</td>\n",
       "      <td>Matriculation</td>\n",
       "      <td>3</td>\n",
       "      <td>NaN</td>\n",
       "      <td>2</td>\n",
       "      <td>N</td>\n",
       "      <td>2.0</td>\n",
       "    </tr>\n",
       "  </tbody>\n",
       "</table>\n",
       "</div>"
      ],
      "text/plain": [
       "          id program_id program_type  program_duration  test_id test_type  \\\n",
       "0    1626_45        T_1            T               131       45   offline   \n",
       "1  11020_130        Y_3            Y               135      130    online   \n",
       "2  12652_146        Y_2            Y               120      146    online   \n",
       "3    7038_72        V_4            V               122       72   offline   \n",
       "4     888_71        V_4            V               122       71   offline   \n",
       "\n",
       "  difficulty_level  trainee_id gender            education  city_tier   age  \\\n",
       "0     intermediate        1626      F        Matriculation          3  46.0   \n",
       "1             easy       11020      M            Bachelors          3   NaN   \n",
       "2             easy       12652      M        Matriculation          3   NaN   \n",
       "3        vary hard        7038      F  High School Diploma          1   NaN   \n",
       "4     intermediate         888      F        Matriculation          3   NaN   \n",
       "\n",
       "   total_programs_enrolled is_handicapped  trainee_engagement_rating  \n",
       "0                        2              N                        4.0  \n",
       "1                        4              N                        4.0  \n",
       "2                        2              N                        3.0  \n",
       "3                        2              N                        2.0  \n",
       "4                        2              N                        2.0  "
      ]
     },
     "execution_count": 55,
     "metadata": {},
     "output_type": "execute_result"
    }
   ],
   "source": [
    "to_predict.head()"
   ]
  },
  {
   "cell_type": "code",
   "execution_count": 56,
   "metadata": {},
   "outputs": [],
   "source": [
    "to_predict.drop([\"id\",\"test_id\",\"program_id\",\"trainee_id\",\"is_handicapped\",\"program_type\",\"city_tier\",\"gender\"],axis=1,inplace=True)"
   ]
  },
  {
   "cell_type": "code",
   "execution_count": 57,
   "metadata": {},
   "outputs": [],
   "source": [
    "to_predict.drop([\"test_type\"],axis=1,inplace=True)"
   ]
  },
  {
   "cell_type": "code",
   "execution_count": 58,
   "metadata": {},
   "outputs": [],
   "source": [
    "to_predict['total_programs_enrolled']=np.where(to_predict['total_programs_enrolled'] ==1, '<=3',to_predict[\"total_programs_enrolled\"])  \n",
    "for i in range (2,15):\n",
    "    if i<4:\n",
    "        to_predict['total_programs_enrolled']=np.where(to_predict['total_programs_enrolled'] ==str(i),'<=3',to_predict['total_programs_enrolled'])\n",
    "    elif i<7:\n",
    "        to_predict['total_programs_enrolled']=np.where(to_predict['total_programs_enrolled'] ==str(i),'[4-6]',to_predict['total_programs_enrolled'])\n",
    "    elif i<10:\n",
    "        to_predict['total_programs_enrolled']=np.where(to_predict['total_programs_enrolled'] ==str(i),'[7-9]',to_predict['total_programs_enrolled'])\n",
    "    else:\n",
    "        to_predict['total_programs_enrolled']=np.where(to_predict['total_programs_enrolled'] ==str(i),'> 9',to_predict['total_programs_enrolled'])\n",
    "    i+=1"
   ]
  },
  {
   "cell_type": "code",
   "execution_count": 59,
   "metadata": {},
   "outputs": [],
   "source": [
    "program_duration=to_predict[\"program_duration\"].unique()"
   ]
  },
  {
   "cell_type": "code",
   "execution_count": 60,
   "metadata": {},
   "outputs": [],
   "source": [
    "to_predict['program_duration']=np.where(to_predict['program_duration'] ==117, '<120',to_predict[\"program_duration\"])  \n",
    "for i in program_duration:\n",
    "    if i<130:\n",
    "        to_predict['program_duration']=np.where(to_predict[\"program_duration\"] ==str(i),'[120 - 130)',to_predict[\"program_duration\"])\n",
    "    else:\n",
    "        to_predict[\"program_duration\"]=np.where(to_predict[\"program_duration\"]==str(i),'>=130',to_predict[\"program_duration\"])"
   ]
  },
  {
   "cell_type": "code",
   "execution_count": 61,
   "metadata": {},
   "outputs": [
    {
     "data": {
      "text/plain": [
       "array(['>=130', '[120 - 130)', '<120'], dtype=object)"
      ]
     },
     "execution_count": 61,
     "metadata": {},
     "output_type": "execute_result"
    }
   ],
   "source": [
    "to_predict[\"program_duration\"].unique()"
   ]
  },
  {
   "cell_type": "code",
   "execution_count": 62,
   "metadata": {},
   "outputs": [],
   "source": [
    "cat_vars=[\"difficulty_level\",\"education\",\"total_programs_enrolled\",\"trainee_engagement_rating\",'program_duration']\n",
    "for var in cat_vars:\n",
    "    cat_list='var'+'_'+var\n",
    "    cat_list = pd.get_dummies(to_predict[var], prefix=var)\n",
    "    data1=to_predict.join(cat_list)\n",
    "    to_predict=data1\n",
    "cat_vars=[\"difficulty_level\",\"education\",\"total_programs_enrolled\",\"trainee_engagement_rating\",\"program_duration\"]\n",
    "data_vars=to_predict.columns.values.tolist()\n",
    "to_keep=[i for i in data_vars if i not in cat_vars]"
   ]
  },
  {
   "cell_type": "code",
   "execution_count": 63,
   "metadata": {},
   "outputs": [
    {
     "name": "stdout",
     "output_type": "stream",
     "text": [
      "<class 'pandas.core.frame.DataFrame'>\n",
      "RangeIndex: 31349 entries, 0 to 31348\n",
      "Data columns (total 22 columns):\n",
      "age                              19558 non-null float64\n",
      "difficulty_level_easy            31349 non-null uint8\n",
      "difficulty_level_hard            31349 non-null uint8\n",
      "difficulty_level_intermediate    31349 non-null uint8\n",
      "difficulty_level_vary hard       31349 non-null uint8\n",
      "education_Bachelors              31349 non-null uint8\n",
      "education_High School Diploma    31349 non-null uint8\n",
      "education_Masters                31349 non-null uint8\n",
      "education_Matriculation          31349 non-null uint8\n",
      "education_No Qualification       31349 non-null uint8\n",
      "total_programs_enrolled_<=3      31349 non-null uint8\n",
      "total_programs_enrolled_> 9      31349 non-null uint8\n",
      "total_programs_enrolled_[4-6]    31349 non-null uint8\n",
      "total_programs_enrolled_[7-9]    31349 non-null uint8\n",
      "trainee_engagement_rating_1.0    31349 non-null uint8\n",
      "trainee_engagement_rating_2.0    31349 non-null uint8\n",
      "trainee_engagement_rating_3.0    31349 non-null uint8\n",
      "trainee_engagement_rating_4.0    31349 non-null uint8\n",
      "trainee_engagement_rating_5.0    31349 non-null uint8\n",
      "program_duration_<120            31349 non-null uint8\n",
      "program_duration_>=130           31349 non-null uint8\n",
      "program_duration_[120 - 130)     31349 non-null uint8\n",
      "dtypes: float64(1), uint8(21)\n",
      "memory usage: 887.9 KB\n"
     ]
    }
   ],
   "source": [
    "final=to_predict[to_keep]\n",
    "final.info()"
   ]
  },
  {
   "cell_type": "code",
   "execution_count": 64,
   "metadata": {},
   "outputs": [
    {
     "data": {
      "text/plain": [
       "count    19558.000000\n",
       "mean        36.440894\n",
       "std          9.055208\n",
       "min         17.000000\n",
       "25%         28.000000\n",
       "50%         39.000000\n",
       "75%         45.000000\n",
       "max         63.000000\n",
       "Name: age, dtype: float64"
      ]
     },
     "execution_count": 64,
     "metadata": {},
     "output_type": "execute_result"
    }
   ],
   "source": [
    "final[\"age\"].describe()"
   ]
  },
  {
   "cell_type": "code",
   "execution_count": 65,
   "metadata": {},
   "outputs": [
    {
     "name": "stdout",
     "output_type": "stream",
     "text": [
      "<class 'pandas.core.frame.DataFrame'>\n",
      "RangeIndex: 31349 entries, 0 to 31348\n",
      "Data columns (total 22 columns):\n",
      "age                              31349 non-null float64\n",
      "difficulty_level_easy            31349 non-null uint8\n",
      "difficulty_level_hard            31349 non-null uint8\n",
      "difficulty_level_intermediate    31349 non-null uint8\n",
      "difficulty_level_vary hard       31349 non-null uint8\n",
      "education_Bachelors              31349 non-null uint8\n",
      "education_High School Diploma    31349 non-null uint8\n",
      "education_Masters                31349 non-null uint8\n",
      "education_Matriculation          31349 non-null uint8\n",
      "education_No Qualification       31349 non-null uint8\n",
      "total_programs_enrolled_<=3      31349 non-null uint8\n",
      "total_programs_enrolled_> 9      31349 non-null uint8\n",
      "total_programs_enrolled_[4-6]    31349 non-null uint8\n",
      "total_programs_enrolled_[7-9]    31349 non-null uint8\n",
      "trainee_engagement_rating_1.0    31349 non-null uint8\n",
      "trainee_engagement_rating_2.0    31349 non-null uint8\n",
      "trainee_engagement_rating_3.0    31349 non-null uint8\n",
      "trainee_engagement_rating_4.0    31349 non-null uint8\n",
      "trainee_engagement_rating_5.0    31349 non-null uint8\n",
      "program_duration_<120            31349 non-null uint8\n",
      "program_duration_>=130           31349 non-null uint8\n",
      "program_duration_[120 - 130)     31349 non-null uint8\n",
      "dtypes: float64(1), uint8(21)\n",
      "memory usage: 887.9 KB\n"
     ]
    },
    {
     "name": "stderr",
     "output_type": "stream",
     "text": [
      "C:\\Users\\brvis\\Anaconda3\\lib\\site-packages\\pandas\\core\\generic.py:6287: SettingWithCopyWarning: \n",
      "A value is trying to be set on a copy of a slice from a DataFrame\n",
      "\n",
      "See the caveats in the documentation: http://pandas.pydata.org/pandas-docs/stable/user_guide/indexing.html#returning-a-view-versus-a-copy\n",
      "  self._update_inplace(new_data)\n"
     ]
    }
   ],
   "source": [
    "final[\"age\"].fillna(36.44,inplace=True)\n",
    "final.info()"
   ]
  },
  {
   "cell_type": "code",
   "execution_count": 66,
   "metadata": {},
   "outputs": [
    {
     "data": {
      "text/html": [
       "<div>\n",
       "<style scoped>\n",
       "    .dataframe tbody tr th:only-of-type {\n",
       "        vertical-align: middle;\n",
       "    }\n",
       "\n",
       "    .dataframe tbody tr th {\n",
       "        vertical-align: top;\n",
       "    }\n",
       "\n",
       "    .dataframe thead th {\n",
       "        text-align: right;\n",
       "    }\n",
       "</style>\n",
       "<table border=\"1\" class=\"dataframe\">\n",
       "  <thead>\n",
       "    <tr style=\"text-align: right;\">\n",
       "      <th></th>\n",
       "      <th>age</th>\n",
       "      <th>is_pass</th>\n",
       "      <th>difficulty_level_hard</th>\n",
       "      <th>difficulty_level_intermediate</th>\n",
       "      <th>difficulty_level_vary hard</th>\n",
       "      <th>education_High School Diploma</th>\n",
       "      <th>education_Masters</th>\n",
       "      <th>education_Matriculation</th>\n",
       "      <th>education_No Qualification</th>\n",
       "      <th>total_programs_enrolled_&gt; 9</th>\n",
       "      <th>total_programs_enrolled_[4-6]</th>\n",
       "      <th>total_programs_enrolled_[7-9]</th>\n",
       "      <th>trainee_engagement_rating_1.0</th>\n",
       "      <th>trainee_engagement_rating_2.0</th>\n",
       "      <th>trainee_engagement_rating_3.0</th>\n",
       "      <th>trainee_engagement_rating_4.0</th>\n",
       "      <th>trainee_engagement_rating_5.0</th>\n",
       "      <th>program_duration_&gt;=130</th>\n",
       "      <th>program_duration_[120 - 130)</th>\n",
       "    </tr>\n",
       "  </thead>\n",
       "  <tbody>\n",
       "    <tr>\n",
       "      <td>0</td>\n",
       "      <td>24.00</td>\n",
       "      <td>0</td>\n",
       "      <td>0</td>\n",
       "      <td>1</td>\n",
       "      <td>0</td>\n",
       "      <td>0</td>\n",
       "      <td>0</td>\n",
       "      <td>1</td>\n",
       "      <td>0</td>\n",
       "      <td>0</td>\n",
       "      <td>1</td>\n",
       "      <td>0</td>\n",
       "      <td>1</td>\n",
       "      <td>0</td>\n",
       "      <td>0</td>\n",
       "      <td>0</td>\n",
       "      <td>0</td>\n",
       "      <td>1</td>\n",
       "      <td>0</td>\n",
       "    </tr>\n",
       "    <tr>\n",
       "      <td>1</td>\n",
       "      <td>26.00</td>\n",
       "      <td>1</td>\n",
       "      <td>0</td>\n",
       "      <td>0</td>\n",
       "      <td>0</td>\n",
       "      <td>1</td>\n",
       "      <td>0</td>\n",
       "      <td>0</td>\n",
       "      <td>0</td>\n",
       "      <td>0</td>\n",
       "      <td>0</td>\n",
       "      <td>0</td>\n",
       "      <td>0</td>\n",
       "      <td>0</td>\n",
       "      <td>1</td>\n",
       "      <td>0</td>\n",
       "      <td>0</td>\n",
       "      <td>1</td>\n",
       "      <td>0</td>\n",
       "    </tr>\n",
       "    <tr>\n",
       "      <td>2</td>\n",
       "      <td>40.00</td>\n",
       "      <td>1</td>\n",
       "      <td>0</td>\n",
       "      <td>0</td>\n",
       "      <td>0</td>\n",
       "      <td>0</td>\n",
       "      <td>0</td>\n",
       "      <td>1</td>\n",
       "      <td>0</td>\n",
       "      <td>0</td>\n",
       "      <td>0</td>\n",
       "      <td>0</td>\n",
       "      <td>0</td>\n",
       "      <td>1</td>\n",
       "      <td>0</td>\n",
       "      <td>0</td>\n",
       "      <td>0</td>\n",
       "      <td>0</td>\n",
       "      <td>1</td>\n",
       "    </tr>\n",
       "    <tr>\n",
       "      <td>3</td>\n",
       "      <td>36.49</td>\n",
       "      <td>1</td>\n",
       "      <td>0</td>\n",
       "      <td>0</td>\n",
       "      <td>0</td>\n",
       "      <td>0</td>\n",
       "      <td>0</td>\n",
       "      <td>1</td>\n",
       "      <td>0</td>\n",
       "      <td>0</td>\n",
       "      <td>1</td>\n",
       "      <td>0</td>\n",
       "      <td>1</td>\n",
       "      <td>0</td>\n",
       "      <td>0</td>\n",
       "      <td>0</td>\n",
       "      <td>0</td>\n",
       "      <td>0</td>\n",
       "      <td>0</td>\n",
       "    </tr>\n",
       "    <tr>\n",
       "      <td>4</td>\n",
       "      <td>42.00</td>\n",
       "      <td>1</td>\n",
       "      <td>0</td>\n",
       "      <td>1</td>\n",
       "      <td>0</td>\n",
       "      <td>1</td>\n",
       "      <td>0</td>\n",
       "      <td>0</td>\n",
       "      <td>0</td>\n",
       "      <td>0</td>\n",
       "      <td>0</td>\n",
       "      <td>0</td>\n",
       "      <td>0</td>\n",
       "      <td>0</td>\n",
       "      <td>0</td>\n",
       "      <td>1</td>\n",
       "      <td>0</td>\n",
       "      <td>1</td>\n",
       "      <td>0</td>\n",
       "    </tr>\n",
       "  </tbody>\n",
       "</table>\n",
       "</div>"
      ],
      "text/plain": [
       "     age  is_pass  difficulty_level_hard  difficulty_level_intermediate  \\\n",
       "0  24.00        0                      0                              1   \n",
       "1  26.00        1                      0                              0   \n",
       "2  40.00        1                      0                              0   \n",
       "3  36.49        1                      0                              0   \n",
       "4  42.00        1                      0                              1   \n",
       "\n",
       "   difficulty_level_vary hard  education_High School Diploma  \\\n",
       "0                           0                              0   \n",
       "1                           0                              1   \n",
       "2                           0                              0   \n",
       "3                           0                              0   \n",
       "4                           0                              1   \n",
       "\n",
       "   education_Masters  education_Matriculation  education_No Qualification  \\\n",
       "0                  0                        1                           0   \n",
       "1                  0                        0                           0   \n",
       "2                  0                        1                           0   \n",
       "3                  0                        1                           0   \n",
       "4                  0                        0                           0   \n",
       "\n",
       "   total_programs_enrolled_> 9  total_programs_enrolled_[4-6]  \\\n",
       "0                            0                              1   \n",
       "1                            0                              0   \n",
       "2                            0                              0   \n",
       "3                            0                              1   \n",
       "4                            0                              0   \n",
       "\n",
       "   total_programs_enrolled_[7-9]  trainee_engagement_rating_1.0  \\\n",
       "0                              0                              1   \n",
       "1                              0                              0   \n",
       "2                              0                              0   \n",
       "3                              0                              1   \n",
       "4                              0                              0   \n",
       "\n",
       "   trainee_engagement_rating_2.0  trainee_engagement_rating_3.0  \\\n",
       "0                              0                              0   \n",
       "1                              0                              1   \n",
       "2                              1                              0   \n",
       "3                              0                              0   \n",
       "4                              0                              0   \n",
       "\n",
       "   trainee_engagement_rating_4.0  trainee_engagement_rating_5.0  \\\n",
       "0                              0                              0   \n",
       "1                              0                              0   \n",
       "2                              0                              0   \n",
       "3                              0                              0   \n",
       "4                              1                              0   \n",
       "\n",
       "   program_duration_>=130  program_duration_[120 - 130)  \n",
       "0                       1                             0  \n",
       "1                       1                             0  \n",
       "2                       0                             1  \n",
       "3                       0                             0  \n",
       "4                       1                             0  "
      ]
     },
     "execution_count": 66,
     "metadata": {},
     "output_type": "execute_result"
    }
   ],
   "source": [
    "data_final.head()"
   ]
  },
  {
   "cell_type": "code",
   "execution_count": 67,
   "metadata": {},
   "outputs": [
    {
     "name": "stdout",
     "output_type": "stream",
     "text": [
      "<class 'pandas.core.frame.DataFrame'>\n",
      "RangeIndex: 73147 entries, 0 to 73146\n",
      "Data columns (total 19 columns):\n",
      "age                              73147 non-null float64\n",
      "is_pass                          73147 non-null int64\n",
      "difficulty_level_hard            73147 non-null uint8\n",
      "difficulty_level_intermediate    73147 non-null uint8\n",
      "difficulty_level_vary hard       73147 non-null uint8\n",
      "education_High School Diploma    73147 non-null uint8\n",
      "education_Masters                73147 non-null uint8\n",
      "education_Matriculation          73147 non-null uint8\n",
      "education_No Qualification       73147 non-null uint8\n",
      "total_programs_enrolled_> 9      73147 non-null uint8\n",
      "total_programs_enrolled_[4-6]    73147 non-null uint8\n",
      "total_programs_enrolled_[7-9]    73147 non-null uint8\n",
      "trainee_engagement_rating_1.0    73147 non-null uint8\n",
      "trainee_engagement_rating_2.0    73147 non-null uint8\n",
      "trainee_engagement_rating_3.0    73147 non-null uint8\n",
      "trainee_engagement_rating_4.0    73147 non-null uint8\n",
      "trainee_engagement_rating_5.0    73147 non-null uint8\n",
      "program_duration_>=130           73147 non-null uint8\n",
      "program_duration_[120 - 130)     73147 non-null uint8\n",
      "dtypes: float64(1), int64(1), uint8(17)\n",
      "memory usage: 2.3 MB\n"
     ]
    }
   ],
   "source": [
    "data_final.info()"
   ]
  },
  {
   "cell_type": "code",
   "execution_count": 68,
   "metadata": {},
   "outputs": [
    {
     "name": "stdout",
     "output_type": "stream",
     "text": [
      "<class 'pandas.core.frame.DataFrame'>\n",
      "RangeIndex: 31349 entries, 0 to 31348\n",
      "Data columns (total 22 columns):\n",
      "age                              31349 non-null float64\n",
      "difficulty_level_easy            31349 non-null uint8\n",
      "difficulty_level_hard            31349 non-null uint8\n",
      "difficulty_level_intermediate    31349 non-null uint8\n",
      "difficulty_level_vary hard       31349 non-null uint8\n",
      "education_Bachelors              31349 non-null uint8\n",
      "education_High School Diploma    31349 non-null uint8\n",
      "education_Masters                31349 non-null uint8\n",
      "education_Matriculation          31349 non-null uint8\n",
      "education_No Qualification       31349 non-null uint8\n",
      "total_programs_enrolled_<=3      31349 non-null uint8\n",
      "total_programs_enrolled_> 9      31349 non-null uint8\n",
      "total_programs_enrolled_[4-6]    31349 non-null uint8\n",
      "total_programs_enrolled_[7-9]    31349 non-null uint8\n",
      "trainee_engagement_rating_1.0    31349 non-null uint8\n",
      "trainee_engagement_rating_2.0    31349 non-null uint8\n",
      "trainee_engagement_rating_3.0    31349 non-null uint8\n",
      "trainee_engagement_rating_4.0    31349 non-null uint8\n",
      "trainee_engagement_rating_5.0    31349 non-null uint8\n",
      "program_duration_<120            31349 non-null uint8\n",
      "program_duration_>=130           31349 non-null uint8\n",
      "program_duration_[120 - 130)     31349 non-null uint8\n",
      "dtypes: float64(1), uint8(21)\n",
      "memory usage: 887.9 KB\n"
     ]
    }
   ],
   "source": [
    "final.info()"
   ]
  },
  {
   "cell_type": "code",
   "execution_count": 69,
   "metadata": {},
   "outputs": [],
   "source": [
    "cat_vars=data_final.columns.values.tolist()\n",
    "data_vars=final.columns.values.tolist()\n"
   ]
  },
  {
   "cell_type": "code",
   "execution_count": 70,
   "metadata": {},
   "outputs": [
    {
     "data": {
      "text/plain": [
       "['age',\n",
       " 'is_pass',\n",
       " 'difficulty_level_hard',\n",
       " 'difficulty_level_intermediate',\n",
       " 'difficulty_level_vary hard',\n",
       " 'education_High School Diploma',\n",
       " 'education_Masters',\n",
       " 'education_Matriculation',\n",
       " 'education_No Qualification',\n",
       " 'total_programs_enrolled_> 9',\n",
       " 'total_programs_enrolled_[4-6]',\n",
       " 'total_programs_enrolled_[7-9]',\n",
       " 'trainee_engagement_rating_1.0',\n",
       " 'trainee_engagement_rating_2.0',\n",
       " 'trainee_engagement_rating_3.0',\n",
       " 'trainee_engagement_rating_4.0',\n",
       " 'trainee_engagement_rating_5.0',\n",
       " 'program_duration_>=130',\n",
       " 'program_duration_[120 - 130)']"
      ]
     },
     "execution_count": 70,
     "metadata": {},
     "output_type": "execute_result"
    }
   ],
   "source": [
    "cat_vars"
   ]
  },
  {
   "cell_type": "code",
   "execution_count": 71,
   "metadata": {},
   "outputs": [],
   "source": [
    "to_keep=[i for i in data_vars if i not in cat_vars]"
   ]
  },
  {
   "cell_type": "code",
   "execution_count": 72,
   "metadata": {},
   "outputs": [
    {
     "data": {
      "text/plain": [
       "['difficulty_level_easy',\n",
       " 'education_Bachelors',\n",
       " 'total_programs_enrolled_<=3',\n",
       " 'program_duration_<120']"
      ]
     },
     "execution_count": 72,
     "metadata": {},
     "output_type": "execute_result"
    }
   ],
   "source": [
    "to_keep"
   ]
  },
  {
   "cell_type": "code",
   "execution_count": 73,
   "metadata": {},
   "outputs": [
    {
     "name": "stderr",
     "output_type": "stream",
     "text": [
      "C:\\Users\\brvis\\Anaconda3\\lib\\site-packages\\pandas\\core\\frame.py:4102: SettingWithCopyWarning: \n",
      "A value is trying to be set on a copy of a slice from a DataFrame\n",
      "\n",
      "See the caveats in the documentation: http://pandas.pydata.org/pandas-docs/stable/user_guide/indexing.html#returning-a-view-versus-a-copy\n",
      "  errors=errors,\n"
     ]
    }
   ],
   "source": [
    "final.drop(to_keep,axis=1,inplace=True)"
   ]
  },
  {
   "cell_type": "code",
   "execution_count": 74,
   "metadata": {},
   "outputs": [
    {
     "name": "stdout",
     "output_type": "stream",
     "text": [
      "<class 'pandas.core.frame.DataFrame'>\n",
      "RangeIndex: 31349 entries, 0 to 31348\n",
      "Data columns (total 18 columns):\n",
      "age                              31349 non-null float64\n",
      "difficulty_level_hard            31349 non-null uint8\n",
      "difficulty_level_intermediate    31349 non-null uint8\n",
      "difficulty_level_vary hard       31349 non-null uint8\n",
      "education_High School Diploma    31349 non-null uint8\n",
      "education_Masters                31349 non-null uint8\n",
      "education_Matriculation          31349 non-null uint8\n",
      "education_No Qualification       31349 non-null uint8\n",
      "total_programs_enrolled_> 9      31349 non-null uint8\n",
      "total_programs_enrolled_[4-6]    31349 non-null uint8\n",
      "total_programs_enrolled_[7-9]    31349 non-null uint8\n",
      "trainee_engagement_rating_1.0    31349 non-null uint8\n",
      "trainee_engagement_rating_2.0    31349 non-null uint8\n",
      "trainee_engagement_rating_3.0    31349 non-null uint8\n",
      "trainee_engagement_rating_4.0    31349 non-null uint8\n",
      "trainee_engagement_rating_5.0    31349 non-null uint8\n",
      "program_duration_>=130           31349 non-null uint8\n",
      "program_duration_[120 - 130)     31349 non-null uint8\n",
      "dtypes: float64(1), uint8(17)\n",
      "memory usage: 765.5 KB\n"
     ]
    }
   ],
   "source": [
    "final.info()"
   ]
  },
  {
   "cell_type": "code",
   "execution_count": 75,
   "metadata": {},
   "outputs": [],
   "source": [
    "predictions_final=logmodel.predict(final)"
   ]
  },
  {
   "cell_type": "code",
   "execution_count": 76,
   "metadata": {},
   "outputs": [
    {
     "name": "stderr",
     "output_type": "stream",
     "text": [
      "C:\\Users\\brvis\\Anaconda3\\lib\\site-packages\\ipykernel_launcher.py:1: SettingWithCopyWarning: \n",
      "A value is trying to be set on a copy of a slice from a DataFrame.\n",
      "Try using .loc[row_indexer,col_indexer] = value instead\n",
      "\n",
      "See the caveats in the documentation: http://pandas.pydata.org/pandas-docs/stable/user_guide/indexing.html#returning-a-view-versus-a-copy\n",
      "  \"\"\"Entry point for launching an IPython kernel.\n"
     ]
    }
   ],
   "source": [
    "final[\"is_pass\"]=predictions_final"
   ]
  },
  {
   "cell_type": "code",
   "execution_count": 77,
   "metadata": {},
   "outputs": [
    {
     "data": {
      "text/html": [
       "<div>\n",
       "<style scoped>\n",
       "    .dataframe tbody tr th:only-of-type {\n",
       "        vertical-align: middle;\n",
       "    }\n",
       "\n",
       "    .dataframe tbody tr th {\n",
       "        vertical-align: top;\n",
       "    }\n",
       "\n",
       "    .dataframe thead th {\n",
       "        text-align: right;\n",
       "    }\n",
       "</style>\n",
       "<table border=\"1\" class=\"dataframe\">\n",
       "  <thead>\n",
       "    <tr style=\"text-align: right;\">\n",
       "      <th></th>\n",
       "      <th>age</th>\n",
       "      <th>difficulty_level_hard</th>\n",
       "      <th>difficulty_level_intermediate</th>\n",
       "      <th>difficulty_level_vary hard</th>\n",
       "      <th>education_High School Diploma</th>\n",
       "      <th>education_Masters</th>\n",
       "      <th>education_Matriculation</th>\n",
       "      <th>education_No Qualification</th>\n",
       "      <th>total_programs_enrolled_&gt; 9</th>\n",
       "      <th>total_programs_enrolled_[4-6]</th>\n",
       "      <th>total_programs_enrolled_[7-9]</th>\n",
       "      <th>trainee_engagement_rating_1.0</th>\n",
       "      <th>trainee_engagement_rating_2.0</th>\n",
       "      <th>trainee_engagement_rating_3.0</th>\n",
       "      <th>trainee_engagement_rating_4.0</th>\n",
       "      <th>trainee_engagement_rating_5.0</th>\n",
       "      <th>program_duration_&gt;=130</th>\n",
       "      <th>program_duration_[120 - 130)</th>\n",
       "      <th>is_pass</th>\n",
       "    </tr>\n",
       "  </thead>\n",
       "  <tbody>\n",
       "    <tr>\n",
       "      <td>0</td>\n",
       "      <td>46.00</td>\n",
       "      <td>0</td>\n",
       "      <td>1</td>\n",
       "      <td>0</td>\n",
       "      <td>0</td>\n",
       "      <td>0</td>\n",
       "      <td>1</td>\n",
       "      <td>0</td>\n",
       "      <td>0</td>\n",
       "      <td>0</td>\n",
       "      <td>0</td>\n",
       "      <td>0</td>\n",
       "      <td>0</td>\n",
       "      <td>0</td>\n",
       "      <td>1</td>\n",
       "      <td>0</td>\n",
       "      <td>1</td>\n",
       "      <td>0</td>\n",
       "      <td>1</td>\n",
       "    </tr>\n",
       "    <tr>\n",
       "      <td>1</td>\n",
       "      <td>36.44</td>\n",
       "      <td>0</td>\n",
       "      <td>0</td>\n",
       "      <td>0</td>\n",
       "      <td>0</td>\n",
       "      <td>0</td>\n",
       "      <td>0</td>\n",
       "      <td>0</td>\n",
       "      <td>0</td>\n",
       "      <td>1</td>\n",
       "      <td>0</td>\n",
       "      <td>0</td>\n",
       "      <td>0</td>\n",
       "      <td>0</td>\n",
       "      <td>1</td>\n",
       "      <td>0</td>\n",
       "      <td>1</td>\n",
       "      <td>0</td>\n",
       "      <td>1</td>\n",
       "    </tr>\n",
       "    <tr>\n",
       "      <td>2</td>\n",
       "      <td>36.44</td>\n",
       "      <td>0</td>\n",
       "      <td>0</td>\n",
       "      <td>0</td>\n",
       "      <td>0</td>\n",
       "      <td>0</td>\n",
       "      <td>1</td>\n",
       "      <td>0</td>\n",
       "      <td>0</td>\n",
       "      <td>0</td>\n",
       "      <td>0</td>\n",
       "      <td>0</td>\n",
       "      <td>0</td>\n",
       "      <td>1</td>\n",
       "      <td>0</td>\n",
       "      <td>0</td>\n",
       "      <td>0</td>\n",
       "      <td>1</td>\n",
       "      <td>1</td>\n",
       "    </tr>\n",
       "    <tr>\n",
       "      <td>3</td>\n",
       "      <td>36.44</td>\n",
       "      <td>0</td>\n",
       "      <td>0</td>\n",
       "      <td>1</td>\n",
       "      <td>1</td>\n",
       "      <td>0</td>\n",
       "      <td>0</td>\n",
       "      <td>0</td>\n",
       "      <td>0</td>\n",
       "      <td>0</td>\n",
       "      <td>0</td>\n",
       "      <td>0</td>\n",
       "      <td>1</td>\n",
       "      <td>0</td>\n",
       "      <td>0</td>\n",
       "      <td>0</td>\n",
       "      <td>0</td>\n",
       "      <td>1</td>\n",
       "      <td>0</td>\n",
       "    </tr>\n",
       "    <tr>\n",
       "      <td>4</td>\n",
       "      <td>36.44</td>\n",
       "      <td>0</td>\n",
       "      <td>1</td>\n",
       "      <td>0</td>\n",
       "      <td>0</td>\n",
       "      <td>0</td>\n",
       "      <td>1</td>\n",
       "      <td>0</td>\n",
       "      <td>0</td>\n",
       "      <td>0</td>\n",
       "      <td>0</td>\n",
       "      <td>0</td>\n",
       "      <td>1</td>\n",
       "      <td>0</td>\n",
       "      <td>0</td>\n",
       "      <td>0</td>\n",
       "      <td>0</td>\n",
       "      <td>1</td>\n",
       "      <td>1</td>\n",
       "    </tr>\n",
       "  </tbody>\n",
       "</table>\n",
       "</div>"
      ],
      "text/plain": [
       "     age  difficulty_level_hard  difficulty_level_intermediate  \\\n",
       "0  46.00                      0                              1   \n",
       "1  36.44                      0                              0   \n",
       "2  36.44                      0                              0   \n",
       "3  36.44                      0                              0   \n",
       "4  36.44                      0                              1   \n",
       "\n",
       "   difficulty_level_vary hard  education_High School Diploma  \\\n",
       "0                           0                              0   \n",
       "1                           0                              0   \n",
       "2                           0                              0   \n",
       "3                           1                              1   \n",
       "4                           0                              0   \n",
       "\n",
       "   education_Masters  education_Matriculation  education_No Qualification  \\\n",
       "0                  0                        1                           0   \n",
       "1                  0                        0                           0   \n",
       "2                  0                        1                           0   \n",
       "3                  0                        0                           0   \n",
       "4                  0                        1                           0   \n",
       "\n",
       "   total_programs_enrolled_> 9  total_programs_enrolled_[4-6]  \\\n",
       "0                            0                              0   \n",
       "1                            0                              1   \n",
       "2                            0                              0   \n",
       "3                            0                              0   \n",
       "4                            0                              0   \n",
       "\n",
       "   total_programs_enrolled_[7-9]  trainee_engagement_rating_1.0  \\\n",
       "0                              0                              0   \n",
       "1                              0                              0   \n",
       "2                              0                              0   \n",
       "3                              0                              0   \n",
       "4                              0                              0   \n",
       "\n",
       "   trainee_engagement_rating_2.0  trainee_engagement_rating_3.0  \\\n",
       "0                              0                              0   \n",
       "1                              0                              0   \n",
       "2                              0                              1   \n",
       "3                              1                              0   \n",
       "4                              1                              0   \n",
       "\n",
       "   trainee_engagement_rating_4.0  trainee_engagement_rating_5.0  \\\n",
       "0                              1                              0   \n",
       "1                              1                              0   \n",
       "2                              0                              0   \n",
       "3                              0                              0   \n",
       "4                              0                              0   \n",
       "\n",
       "   program_duration_>=130  program_duration_[120 - 130)  is_pass  \n",
       "0                       1                             0        1  \n",
       "1                       1                             0        1  \n",
       "2                       0                             1        1  \n",
       "3                       0                             1        0  \n",
       "4                       0                             1        1  "
      ]
     },
     "execution_count": 77,
     "metadata": {},
     "output_type": "execute_result"
    }
   ],
   "source": [
    "final.head()"
   ]
  },
  {
   "cell_type": "code",
   "execution_count": 85,
   "metadata": {},
   "outputs": [],
   "source": [
    "for_submission[\"is_pass\"]=predictions_final"
   ]
  },
  {
   "cell_type": "code",
   "execution_count": 88,
   "metadata": {},
   "outputs": [
    {
     "data": {
      "text/plain": [
       "['id',\n",
       " 'program_id',\n",
       " 'program_type',\n",
       " 'program_duration',\n",
       " 'test_id',\n",
       " 'test_type',\n",
       " 'difficulty_level',\n",
       " 'trainee_id',\n",
       " 'gender',\n",
       " 'education',\n",
       " 'city_tier',\n",
       " 'age',\n",
       " 'total_programs_enrolled',\n",
       " 'is_handicapped',\n",
       " 'trainee_engagement_rating',\n",
       " 'is_pass']"
      ]
     },
     "execution_count": 88,
     "metadata": {},
     "output_type": "execute_result"
    }
   ],
   "source": [
    "for_submission.columns.values.tolist()"
   ]
  },
  {
   "cell_type": "code",
   "execution_count": 89,
   "metadata": {},
   "outputs": [],
   "source": [
    "for_submission.drop([\n",
    " 'program_id',\n",
    " 'program_type',\n",
    " 'program_duration',\n",
    " 'test_id',\n",
    " 'test_type',\n",
    " 'difficulty_level',\n",
    " 'trainee_id',\n",
    " 'gender',\n",
    " 'education',\n",
    " 'city_tier',\n",
    " 'age',\n",
    " 'total_programs_enrolled',\n",
    " 'is_handicapped',\n",
    " 'trainee_engagement_rating'],axis=1,inplace=True)"
   ]
  },
  {
   "cell_type": "code",
   "execution_count": 91,
   "metadata": {},
   "outputs": [],
   "source": [
    "for_submission.to_csv(\"D:\\Project\\Machine_learning_project1\\submission.csv\")"
   ]
  }
 ],
 "metadata": {
  "kernelspec": {
   "display_name": "Python 3",
   "language": "python",
   "name": "python3"
  },
  "language_info": {
   "codemirror_mode": {
    "name": "ipython",
    "version": 3
   },
   "file_extension": ".py",
   "mimetype": "text/x-python",
   "name": "python",
   "nbconvert_exporter": "python",
   "pygments_lexer": "ipython3",
   "version": "3.7.4"
  }
 },
 "nbformat": 4,
 "nbformat_minor": 2
}
